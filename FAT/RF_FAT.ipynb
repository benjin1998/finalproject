{
 "cells": [
  {
   "cell_type": "code",
   "execution_count": 435,
   "metadata": {},
   "outputs": [],
   "source": [
    "import pandas as pd\n",
    "import numpy as np\n",
    "import matplotlib.pyplot as plt\n",
    "from treeinterpreter import treeinterpreter as ti\n",
    "from sklearn.tree import DecisionTreeClassifier\n",
    "from sklearn.ensemble import RandomForestClassifier\n",
    "from sklearn.model_selection import cross_val_score\n",
    "from sklearn import metrics\n",
    "\n",
    "dataset = pd.read_csv(\"dataset.csv\")"
   ]
  },
  {
   "cell_type": "code",
   "execution_count": 436,
   "metadata": {},
   "outputs": [],
   "source": [
    "dataset[\"creatinine\"].fillna(dataset[\"creatinine\"].mean(),inplace = True)\n",
    "dataset[\"po2\"].fillna(dataset[\"po2\"].mean(),inplace = True)\n",
    "dataset[\"fio2\"].fillna(dataset[\"fio2\"].mean(),inplace = True)\n",
    "dataset[\"pco2\"].fillna(dataset[\"pco2\"].mean(),inplace = True)\n",
    "dataset[\"bp_min\"].fillna(dataset[\"bp_min\"].mean(),inplace = True)\n",
    "dataset[\"bp_max\"].fillna(dataset[\"bp_max\"].mean(),inplace = True)\n",
    "dataset[\"pain\"].fillna(dataset[\"pain\"].mean(),inplace = True)\n",
    "dataset[\"k\"].fillna(dataset[\"k\"].mean(),inplace = True)\n",
    "dataset[\"hr_min\"].fillna(dataset[\"hr_min\"].mean(),inplace = True)\n",
    "dataset[\"hr_max\"].fillna(dataset['hr_max'].mean(),inplace = True)\n",
    "dataset[\"gcs_min\"].fillna(dataset[\"gcs_min\"].mean(),inplace = True)\n",
    "dataset[\"gcs_max\"].fillna(dataset[\"gcs_max\"].mean(),inplace = True)\n",
    "dataset[\"bun\"].fillna(dataset[\"bun\"].mean(),inplace = True)\n",
    "dataset[\"hco3\"].fillna(dataset[\"hco3\"].mean(),inplace = True)\n",
    "dataset[\"airway\"].fillna(dataset[\"airway\"].mean(),inplace = True)\n",
    "dataset[\"resp_min\"].fillna(dataset[\"resp_min\"].mean(),inplace = True)\n",
    "dataset[\"resp_max\"].fillna(dataset[\"resp_max\"].mean(),inplace = True)\n",
    "dataset[\"haemoglobin\"].fillna(dataset[\"haemoglobin\"].mean(),inplace = True)\n",
    "dataset[\"spo2_min\"].fillna(dataset[\"spo2_min\"].mean(),inplace = True)\n",
    "dataset[\"spo2_max\"].fillna(dataset[\"spo2_max\"].mean(),inplace = True)\n",
    "dataset[\"temp_min\"].fillna(dataset[\"temp_min\"].mean(),inplace = True)\n",
    "dataset[\"temp_max\"].fillna(dataset[\"temp_max\"].mean(),inplace = True)\n",
    "dataset[\"na\"].fillna(dataset[\"na\"].mean(),inplace = True)\n"
   ]
  },
  {
   "cell_type": "code",
   "execution_count": 448,
   "metadata": {},
   "outputs": [],
   "source": [
    "features = ['creatinine','po2','fio2','pco2','bp_min','bp_max','pain','k','hr_min','hr_max','gcs_min','gcs_max','bun','hco3','airway','resp_min','resp_max','haemoglobin','spo2_min','spo2_max','temp_min','temp_max','na']\n",
    "\n",
    "x = dataset[features]\n",
    "y= dataset['outcome']\n",
    "\n",
    "from sklearn.model_selection import train_test_split\n",
    "xtrain, xtest, ytrain, ytest = train_test_split(x, y, test_size = 0.2)"
   ]
  },
  {
   "cell_type": "code",
   "execution_count": 471,
   "metadata": {},
   "outputs": [
    {
     "data": {
      "image/png": "[encoded data removed]",
      "text/plain": [
       "<Figure size 432x288 with 1 Axes>"
      ]
     },
     "metadata": {
      "needs_background": "light"
     },
     "output_type": "display_data"
    }
   ],
   "source": [
    "rf0 = RandomForestClassifier()\n",
    "rf0.fit(xtrain,ytrain)\n",
    "y_pred0=rf0.predict(xtest)\n",
    "\n",
    "from sklearn.metrics import roc_auc_score,roc_curve\n",
    "fpr, tpr, threshold = metrics.roc_curve(ytest, rf0.predict_proba(xtest)[:,1])\n",
    "roc_auc = metrics.auc(fpr, tpr)\n",
    "\n",
    "plt.title('Classifier0')\n",
    "plt.plot(fpr, tpr, 'b', label = 'AUC = %0.2f' % roc_auc)\n",
    "plt.legend(loc = 'lower right')\n",
    "plt.plot([0, 1], [0, 1],'r--')\n",
    "plt.xlim([0, 1])\n",
    "plt.ylim([0, 1])\n",
    "plt.ylabel('True Positive Rate')\n",
    "plt.xlabel('False Positive Rate')\n",
    "plt.show()"
   ]
  },
  {
   "cell_type": "code",
   "execution_count": 472,
   "metadata": {},
   "outputs": [
    {
     "name": "stdout",
     "output_type": "stream",
     "text": [
      "{'n_estimators': [200, 400, 600, 800, 1000, 1200, 1400, 1600, 1800, 2000], 'max_features': ['auto', 'sqrt'], 'max_depth': [10, 20, 30, 40, 50, 60, 70, 80, 90, 100, 110, None], 'min_samples_split': [2, 5, 10], 'min_samples_leaf': [1, 2, 4], 'bootstrap': [True, False]}\n"
     ]
    }
   ],
   "source": [
    "import math\n",
    "from sklearn.model_selection import RandomizedSearchCV\n",
    "n_estimators = [int(x) for x in np.linspace(start=200, stop=2000, num=10)]\n",
    "max_features = ['auto', 'sqrt']\n",
    "max_depth = [int(x) for x in np.linspace(10, 110, num=11)]\n",
    "max_depth.append(None)\n",
    "min_samples_split = [2,5,10]\n",
    "min_samples_leaf = [1,2,4]\n",
    "bootstrap = [True, False]\n",
    "\n",
    "random_grid = {\n",
    "    'n_estimators': n_estimators,\n",
    "    'max_features': max_features,\n",
    "    'max_depth': max_depth,\n",
    "    'min_samples_split': min_samples_split,\n",
    "    'min_samples_leaf': min_samples_leaf,\n",
    "    'bootstrap': bootstrap\n",
    "}\n",
    "\n",
    "print(random_grid)"
   ]
  },
  {
   "cell_type": "code",
   "execution_count": 496,
   "metadata": {},
   "outputs": [
    {
     "name": "stdout",
     "output_type": "stream",
     "text": [
      "Fitting 10 folds for each of 100 candidates, totalling 1000 fits\n"
     ]
    },
    {
     "name": "stderr",
     "output_type": "stream",
     "text": [
      "[Parallel(n_jobs=-1)]: Using backend LokyBackend with 8 concurrent workers.\n",
      "[Parallel(n_jobs=-1)]: Done  25 tasks      | elapsed:   17.7s\n",
      "//anaconda3/lib/python3.7/site-packages/joblib/externals/loky/process_executor.py:706: UserWarning: A worker stopped while some jobs were given to the executor. This can be caused by a too short worker timeout or by a memory leak.\n",
      "  \"timeout or by a memory leak.\", UserWarning\n",
      "[Parallel(n_jobs=-1)]: Done 146 tasks      | elapsed:  2.7min\n",
      "[Parallel(n_jobs=-1)]: Done 349 tasks      | elapsed:  7.0min\n",
      "[Parallel(n_jobs=-1)]: Done 632 tasks      | elapsed: 12.3min\n",
      "[Parallel(n_jobs=-1)]: Done 1000 out of 1000 | elapsed: 18.3min finished\n"
     ]
    },
    {
     "data": {
      "text/plain": [
       "RandomizedSearchCV(cv=StratifiedKFold(n_splits=10, random_state=0, shuffle=True),\n",
       "                   estimator=RandomForestClassifier(random_state=0), n_iter=100,\n",
       "                   n_jobs=-1,\n",
       "                   param_distributions={'bootstrap': [True, False],\n",
       "                                        'max_depth': [10, 20, 30, 40, 50, 60,\n",
       "                                                      70, 80, 90, 100, 110,\n",
       "                                                      None],\n",
       "                                        'max_features': ['auto', 'sqrt'],\n",
       "                                        'min_samples_leaf': [1, 2, 4],\n",
       "                                        'min_samples_split': [2, 5, 10],\n",
       "                                        'n_estimators': [200, 400, 600, 800,\n",
       "                                                         1000, 1200, 1400, 1600,\n",
       "                                                         1800, 2000]},\n",
       "                   random_state=0, scoring='roc_auc', verbose=2)"
      ]
     },
     "execution_count": 496,
     "metadata": {},
     "output_type": "execute_result"
    }
   ],
   "source": [
    "from sklearn.model_selection import StratifiedKFold\n",
    "\n",
    "rf = RandomForestClassifier(random_state=0)\n",
    "kfold = StratifiedKFold(n_splits=10, shuffle = True,random_state=0)\n",
    "rf_random = RandomizedSearchCV(estimator=rf, param_distributions = random_grid, n_iter=100, cv=kfold, verbose=2,refit=True,n_jobs=-1,scoring='roc_auc',random_state=0)\n",
    "rf_random.fit(xtrain, ytrain)"
   ]
  },
  {
   "cell_type": "code",
   "execution_count": 497,
   "metadata": {},
   "outputs": [
    {
     "data": {
      "text/plain": [
       "{'n_estimators': 1200,\n",
       " 'min_samples_split': 2,\n",
       " 'min_samples_leaf': 4,\n",
       " 'max_features': 'auto',\n",
       " 'max_depth': None,\n",
       " 'bootstrap': False}"
      ]
     },
     "execution_count": 497,
     "metadata": {},
     "output_type": "execute_result"
    }
   ],
   "source": [
    "rf_random.best_params_"
   ]
  },
  {
   "cell_type": "code",
   "execution_count": 507,
   "metadata": {},
   "outputs": [
    {
     "data": {
      "image/png": "[encoded data removed]",
      "text/plain": [
       "<Figure size 432x288 with 1 Axes>"
      ]
     },
     "metadata": {
      "needs_background": "light"
     },
     "output_type": "display_data"
    }
   ],
   "source": [
    "from sklearn.metrics import roc_auc_score,roc_curve\n",
    "fpr, tpr, threshold = metrics.roc_curve(ytest, rf_random.predict_proba(xtest)[:,1])\n",
    "roc_auc = metrics.auc(fpr, tpr)\n",
    "\n",
    "plt.title('Classifier_random')\n",
    "plt.plot(fpr, tpr, 'b', label = 'AUC = %0.2f' % roc_auc)\n",
    "plt.legend(loc = 'lower right')\n",
    "plt.plot([0, 1], [0, 1],'r--')\n",
    "plt.xlim([0, 1])\n",
    "plt.ylim([0, 1])\n",
    "plt.ylabel('True Positive Rate')\n",
    "plt.xlabel('False Positive Rate')\n",
    "plt.show()"
   ]
  },
  {
   "cell_type": "code",
   "execution_count": 508,
   "metadata": {},
   "outputs": [
    {
     "data": {
      "image/png": "[encoded data removed]",
      "text/plain": [
       "<Figure size 432x288 with 1 Axes>"
      ]
     },
     "metadata": {
      "needs_background": "light"
     },
     "output_type": "display_data"
    }
   ],
   "source": [
    "fpr, tpr, threshold = metrics.roc_curve(ytest, rf_random.predict_proba(xtest)[:,1])\n",
    "roc_auc = metrics.auc(fpr, tpr)\n",
    "plt.plot(fpr, tpr, 'b', label = 'Randomized GridSearch Clf: AUC = %0.2f' % roc_auc)\n",
    "\n",
    "fpr, tpr, threshold = metrics.roc_curve(ytest, rf0.predict_proba(xtest)[:,1])\n",
    "roc_auc = metrics.auc(fpr, tpr)\n",
    "plt.plot(fpr, tpr, 'k', label = 'Original Clf (test set): AUC = %0.2f' % roc_auc)\n",
    "\n",
    "fpr, tpr, threshold = metrics.roc_curve(ytrain, rf0.predict_proba(xtrain)[:,1])\n",
    "roc_auc = metrics.auc(fpr, tpr)\n",
    "plt.plot(fpr, tpr, 'k--', label = 'Original Clf (train set): AUC = %0.2f' % roc_auc)\n",
    "\n",
    "plt.legend(loc = 'lower right')\n",
    "plt.plot([0, 1], [0, 1],'r--')\n",
    "plt.xlim([0, 1])\n",
    "plt.ylim([0, 1])\n",
    "plt.ylabel('True Positive Rate')\n",
    "plt.xlabel('False Positive Rate')\n",
    "plt.show()"
   ]
  },
  {
   "cell_type": "code",
   "execution_count": 509,
   "metadata": {},
   "outputs": [
    {
     "name": "stdout",
     "output_type": "stream",
     "text": [
      "Original Confusion Matrix: \n",
      " [[227 207]\n",
      " [205 153]]\n",
      "Original Accuracy:  0.7878787878787878\n",
      "Original Precision: 0.7411167512690355\n",
      "Original recall: 0.8156424581005587\n",
      "Original f1: 0.776595744680851\n"
     ]
    }
   ],
   "source": [
    "from sklearn.metrics import confusion_matrix\n",
    "cm = confusion_matrix(ytest, y_pred1)\n",
    "print (\"Original Confusion Matrix: \\n\", cm)\n",
    "from sklearn.metrics import accuracy_score\n",
    "print (\"Original Accuracy: \", accuracy_score(ytest, y_pred0))\n",
    "from sklearn.metrics import precision_score, recall_score, f1_score\n",
    "print ('Original Precision:',precision_score(ytest,y_pred0))\n",
    "print ('Original recall:',recall_score(ytest,y_pred0))\n",
    "print ('Original f1:',f1_score(ytest,y_pred0))"
   ]
  },
  {
   "cell_type": "code",
   "execution_count": 510,
   "metadata": {},
   "outputs": [
    {
     "name": "stdout",
     "output_type": "stream",
     "text": [
      "Randomized GSCV Confusion Matrix: \n",
      " [[325 109]\n",
      " [ 66 292]]\n",
      "Randomized GSCV Accuracy:  0.7790404040404041\n",
      "Randomized GSCV Precision: 0.7281795511221946\n",
      "Randomized GSCV Recall: 0.8156424581005587\n",
      "Randomized GSCV f1: 0.769433465085639\n"
     ]
    }
   ],
   "source": [
    "rgrid_pred=rf_random.predict(xtest)\n",
    "cm1 = confusion_matrix(ytest,rgrid_pred)\n",
    "print (\"Randomized GSCV Confusion Matrix: \\n\", cm1)\n",
    "print (\"Randomized GSCV Accuracy: \", accuracy_score(ytest, rgrid_pred))\n",
    "print ('Randomized GSCV Precision:',precision_score(ytest, rgrid_pred))\n",
    "print ('Randomized GSCV Recall:',recall_score(ytest, rgrid_pred))\n",
    "print ('Randomized GSCV f1:',f1_score(ytest,rgrid_pred))"
   ]
  },
  {
   "cell_type": "code",
   "execution_count": null,
   "metadata": {},
   "outputs": [],
   "source": []
  },
  {
   "cell_type": "code",
   "execution_count": 511,
   "metadata": {},
   "outputs": [],
   "source": [
    "\n",
    "threshold = 0.7\n",
    "y_pred4_proba=rf_random.predict_proba(xtest)\n",
    "y_pred4 = (y_pred4_proba[:,1]>=threshold).astype('int')\n"
   ]
  },
  {
   "cell_type": "code",
   "execution_count": 512,
   "metadata": {},
   "outputs": [
    {
     "name": "stdout",
     "output_type": "stream",
     "text": [
      "Randomized GSCV Accuracy (threshold=0.7):  0.7575757575757576\n",
      "Randomized GSCV Precision (threshold=0.7): 0.8458333333333333\n",
      "Randomized GSCV Recall (threshold=0.7): 0.5670391061452514\n",
      "Randomized GSCV f1 (threshold=0.7): 0.6789297658862876\n"
     ]
    }
   ],
   "source": [
    "print (\"Randomized GSCV Accuracy (threshold=0.7): \", accuracy_score(ytest, y_pred4))\n",
    "print ('Randomized GSCV Precision (threshold=0.7):',precision_score(ytest, y_pred4))\n",
    "print ('Randomized GSCV Recall (threshold=0.7):',recall_score(ytest, y_pred4))\n",
    "print ('Randomized GSCV f1 (threshold=0.7):',f1_score(ytest,y_pred4))"
   ]
  },
  {
   "cell_type": "code",
   "execution_count": 616,
   "metadata": {
    "scrolled": true
   },
   "outputs": [
    {
     "name": "stdout",
     "output_type": "stream",
     "text": [
      "Prediction [[0.27196429 0.72803571]]\n",
      "Bias (trainset prior) [[0.54407583 0.45592417]]\n",
      "Feature contributions:\n",
      "creatinine [ 0.00666381 -0.00666381]\n",
      "po2 [ 0.00892337 -0.00892337]\n",
      "fio2 [-0.03939812  0.03939812]\n",
      "pco2 [ 4.62701848e-05 -4.62701848e-05]\n",
      "bp_min [ 0.00936189 -0.00936189]\n",
      "bp_max [-0.00122404  0.00122404]\n",
      "pain [-0.00301728  0.00301728]\n",
      "k [-0.00859952  0.00859952]\n",
      "hr_min [-0.02032584  0.02032584]\n",
      "hr_max [-0.05836077  0.05836077]\n",
      "gcs_min [-0.06184174  0.06184174]\n",
      "gcs_max [-0.0482762  0.0482762]\n",
      "bun [ 0.00114488 -0.00114488]\n",
      "hco3 [-0.01906166  0.01906166]\n",
      "airway [-0.06867584  0.06867584]\n",
      "resp_min [-0.01379997  0.01379997]\n",
      "resp_max [-0.05694291  0.05694291]\n",
      "haemoglobin [ 0.05569816 -0.05569816]\n",
      "spo2_min [-0.01514131  0.01514131]\n",
      "spo2_max [-0.00518269  0.00518269]\n",
      "temp_min [ 0.03064468 -0.03064468]\n",
      "temp_max [ 0.03172042 -0.03172042]\n",
      "na [ 0.00353284 -0.00353284]\n"
     ]
    }
   ],
   "source": [
    "instance=xtest.to_numpy()[0:1,:]\n",
    "prediction, bias, contributions = ti.predict(rf3, instance)\n",
    "print ('Prediction', prediction)\n",
    "print ('Bias (trainset prior)', bias)\n",
    "print ('Feature contributions:')\n",
    "for c, feature in zip(contributions[0], features):\n",
    "    print (feature, c)"
   ]
  },
  {
   "cell_type": "code",
   "execution_count": null,
   "metadata": {},
   "outputs": [],
   "source": []
  },
  {
   "cell_type": "code",
   "execution_count": 516,
   "metadata": {},
   "outputs": [
    {
     "data": {
      "text/plain": [
       "(792,)"
      ]
     },
     "execution_count": 516,
     "metadata": {},
     "output_type": "execute_result"
    }
   ],
   "source": [
    "target=ytest.to_numpy()\n",
    "target.shape"
   ]
  },
  {
   "cell_type": "code",
   "execution_count": 517,
   "metadata": {},
   "outputs": [],
   "source": [
    "target_2d=target.reshape(792,1)"
   ]
  },
  {
   "cell_type": "code",
   "execution_count": 519,
   "metadata": {},
   "outputs": [
    {
     "data": {
      "text/plain": [
       "array([0, 1])"
      ]
     },
     "execution_count": 519,
     "metadata": {},
     "output_type": "execute_result"
    }
   ],
   "source": [
    "np.unique(target)"
   ]
  },
  {
   "cell_type": "code",
   "execution_count": 520,
   "metadata": {},
   "outputs": [
    {
     "name": "stderr",
     "output_type": "stream",
     "text": [
      "20-Jul-20 16:13:37 fatf.utils.array.tools INFO     Using numpy's numpy.lib.recfunctions.structured_to_unstructured as fatf.utils.array.tools.structured_to_unstructured and fatf.utils.array.tools.structured_to_unstructured_row.\n"
     ]
    }
   ],
   "source": [
    "import fatf\n",
    "import fatf.utils.data.tools as fatf_data_tools\n",
    "from pprint import pprint\n",
    "target_grouping_num = fatf_data_tools.group_by_column(target_2d, 0)"
   ]
  },
  {
   "cell_type": "code",
   "execution_count": 521,
   "metadata": {},
   "outputs": [
    {
     "data": {
      "text/plain": [
       "['x <= 0.2',\n",
       " '0.2 < x <= 0.4',\n",
       " '0.4 < x <= 0.6000000000000001',\n",
       " '0.6000000000000001 < x <= 0.8',\n",
       " '0.8 < x']"
      ]
     },
     "execution_count": 521,
     "metadata": {},
     "output_type": "execute_result"
    }
   ],
   "source": [
    "target_grouping_num[1]"
   ]
  },
  {
   "cell_type": "code",
   "execution_count": 522,
   "metadata": {},
   "outputs": [
    {
     "data": {
      "text/plain": [
       "['(0,)', '(1,)']"
      ]
     },
     "execution_count": 522,
     "metadata": {},
     "output_type": "execute_result"
    }
   ],
   "source": [
    "target_grouping_num_cat = fatf_data_tools.group_by_column(target_2d, 0, treat_as_categorical=True)\n",
    "target_grouping_num_cat[1]"
   ]
  },
  {
   "cell_type": "code",
   "execution_count": 523,
   "metadata": {},
   "outputs": [
    {
     "data": {
      "text/plain": [
       "[0,\n",
       " 2,\n",
       " 3,\n",
       " 5,\n",
       " 7,\n",
       " 9,\n",
       " 12,\n",
       " 14,\n",
       " 15,\n",
       " 19,\n",
       " 21,\n",
       " 25,\n",
       " 27,\n",
       " 28,\n",
       " 30,\n",
       " 31,\n",
       " 32,\n",
       " 34,\n",
       " 35,\n",
       " 37,\n",
       " 38,\n",
       " 41,\n",
       " 46,\n",
       " 47,\n",
       " 48,\n",
       " 49,\n",
       " 50,\n",
       " 51,\n",
       " 52,\n",
       " 54,\n",
       " 57,\n",
       " 58,\n",
       " 59,\n",
       " 61,\n",
       " 63,\n",
       " 64,\n",
       " 65,\n",
       " 66,\n",
       " 67,\n",
       " 68,\n",
       " 72,\n",
       " 73,\n",
       " 74,\n",
       " 79,\n",
       " 80,\n",
       " 81,\n",
       " 82,\n",
       " 83,\n",
       " 87,\n",
       " 88,\n",
       " 89,\n",
       " 91,\n",
       " 93,\n",
       " 94,\n",
       " 95,\n",
       " 97,\n",
       " 99,\n",
       " 101,\n",
       " 104,\n",
       " 105,\n",
       " 106,\n",
       " 107,\n",
       " 108,\n",
       " 109,\n",
       " 114,\n",
       " 115,\n",
       " 116,\n",
       " 120,\n",
       " 121,\n",
       " 123,\n",
       " 124,\n",
       " 125,\n",
       " 126,\n",
       " 128,\n",
       " 129,\n",
       " 132,\n",
       " 133,\n",
       " 134,\n",
       " 135,\n",
       " 136,\n",
       " 139,\n",
       " 140,\n",
       " 141,\n",
       " 143,\n",
       " 145,\n",
       " 148,\n",
       " 149,\n",
       " 150,\n",
       " 151,\n",
       " 152,\n",
       " 153,\n",
       " 157,\n",
       " 158,\n",
       " 159,\n",
       " 160,\n",
       " 163,\n",
       " 164,\n",
       " 167,\n",
       " 168,\n",
       " 169,\n",
       " 170,\n",
       " 173,\n",
       " 174,\n",
       " 177,\n",
       " 180,\n",
       " 181,\n",
       " 183,\n",
       " 185,\n",
       " 186,\n",
       " 187,\n",
       " 189,\n",
       " 190,\n",
       " 191,\n",
       " 193,\n",
       " 195,\n",
       " 196,\n",
       " 197,\n",
       " 198,\n",
       " 203,\n",
       " 204,\n",
       " 205,\n",
       " 206,\n",
       " 208,\n",
       " 211,\n",
       " 212,\n",
       " 213,\n",
       " 214,\n",
       " 215,\n",
       " 216,\n",
       " 217,\n",
       " 219,\n",
       " 220,\n",
       " 221,\n",
       " 223,\n",
       " 224,\n",
       " 226,\n",
       " 227,\n",
       " 229,\n",
       " 231,\n",
       " 232,\n",
       " 233,\n",
       " 237,\n",
       " 238,\n",
       " 239,\n",
       " 241,\n",
       " 243,\n",
       " 244,\n",
       " 246,\n",
       " 248,\n",
       " 251,\n",
       " 252,\n",
       " 254,\n",
       " 257,\n",
       " 258,\n",
       " 259,\n",
       " 260,\n",
       " 261,\n",
       " 262,\n",
       " 263,\n",
       " 265,\n",
       " 266,\n",
       " 267,\n",
       " 269,\n",
       " 270,\n",
       " 272,\n",
       " 274,\n",
       " 275,\n",
       " 277,\n",
       " 278,\n",
       " 282,\n",
       " 283,\n",
       " 285,\n",
       " 286,\n",
       " 287,\n",
       " 289,\n",
       " 292,\n",
       " 295,\n",
       " 297,\n",
       " 300,\n",
       " 301,\n",
       " 302,\n",
       " 304,\n",
       " 308,\n",
       " 309,\n",
       " 311,\n",
       " 312,\n",
       " 315,\n",
       " 318,\n",
       " 319,\n",
       " 321,\n",
       " 324,\n",
       " 325,\n",
       " 327,\n",
       " 331,\n",
       " 332,\n",
       " 333,\n",
       " 334,\n",
       " 336,\n",
       " 337,\n",
       " 339,\n",
       " 340,\n",
       " 341,\n",
       " 342,\n",
       " 346,\n",
       " 347,\n",
       " 349,\n",
       " 350,\n",
       " 351,\n",
       " 352,\n",
       " 353,\n",
       " 358,\n",
       " 359,\n",
       " 360,\n",
       " 364,\n",
       " 368,\n",
       " 369,\n",
       " 370,\n",
       " 371,\n",
       " 372,\n",
       " 375,\n",
       " 378,\n",
       " 380,\n",
       " 381,\n",
       " 382,\n",
       " 383,\n",
       " 384,\n",
       " 388,\n",
       " 389,\n",
       " 390,\n",
       " 392,\n",
       " 393,\n",
       " 394,\n",
       " 396,\n",
       " 399,\n",
       " 400,\n",
       " 402,\n",
       " 403,\n",
       " 406,\n",
       " 409,\n",
       " 411,\n",
       " 413,\n",
       " 417,\n",
       " 419,\n",
       " 422,\n",
       " 424,\n",
       " 425,\n",
       " 429,\n",
       " 431,\n",
       " 433,\n",
       " 434,\n",
       " 436,\n",
       " 437,\n",
       " 438,\n",
       " 441,\n",
       " 442,\n",
       " 443,\n",
       " 444,\n",
       " 445,\n",
       " 446,\n",
       " 450,\n",
       " 451,\n",
       " 452,\n",
       " 454,\n",
       " 456,\n",
       " 457,\n",
       " 458,\n",
       " 459,\n",
       " 460,\n",
       " 461,\n",
       " 463,\n",
       " 464,\n",
       " 466,\n",
       " 467,\n",
       " 471,\n",
       " 473,\n",
       " 478,\n",
       " 479,\n",
       " 481,\n",
       " 482,\n",
       " 484,\n",
       " 486,\n",
       " 489,\n",
       " 490,\n",
       " 492,\n",
       " 501,\n",
       " 502,\n",
       " 503,\n",
       " 504,\n",
       " 505,\n",
       " 507,\n",
       " 509,\n",
       " 510,\n",
       " 512,\n",
       " 513,\n",
       " 515,\n",
       " 517,\n",
       " 519,\n",
       " 520,\n",
       " 524,\n",
       " 527,\n",
       " 528,\n",
       " 529,\n",
       " 531,\n",
       " 532,\n",
       " 535,\n",
       " 538,\n",
       " 541,\n",
       " 542,\n",
       " 549,\n",
       " 550,\n",
       " 551,\n",
       " 552,\n",
       " 553,\n",
       " 554,\n",
       " 555,\n",
       " 557,\n",
       " 561,\n",
       " 563,\n",
       " 565,\n",
       " 566,\n",
       " 568,\n",
       " 570,\n",
       " 571,\n",
       " 573,\n",
       " 574,\n",
       " 577,\n",
       " 578,\n",
       " 580,\n",
       " 581,\n",
       " 582,\n",
       " 583,\n",
       " 584,\n",
       " 585,\n",
       " 586,\n",
       " 591,\n",
       " 592,\n",
       " 594,\n",
       " 595,\n",
       " 597,\n",
       " 599,\n",
       " 601,\n",
       " 602,\n",
       " 603,\n",
       " 606,\n",
       " 610,\n",
       " 611,\n",
       " 612,\n",
       " 614,\n",
       " 616,\n",
       " 618,\n",
       " 620,\n",
       " 621,\n",
       " 622,\n",
       " 623,\n",
       " 625,\n",
       " 628,\n",
       " 629,\n",
       " 630,\n",
       " 632,\n",
       " 633,\n",
       " 635,\n",
       " 637,\n",
       " 638,\n",
       " 639,\n",
       " 641,\n",
       " 643,\n",
       " 653,\n",
       " 654,\n",
       " 656,\n",
       " 657,\n",
       " 658,\n",
       " 659,\n",
       " 662,\n",
       " 663,\n",
       " 667,\n",
       " 672,\n",
       " 677,\n",
       " 679,\n",
       " 680,\n",
       " 681,\n",
       " 682,\n",
       " 683,\n",
       " 684,\n",
       " 685,\n",
       " 690,\n",
       " 691,\n",
       " 694,\n",
       " 696,\n",
       " 698,\n",
       " 701,\n",
       " 702,\n",
       " 703,\n",
       " 706,\n",
       " 707,\n",
       " 710,\n",
       " 711,\n",
       " 712,\n",
       " 717,\n",
       " 720,\n",
       " 721,\n",
       " 723,\n",
       " 725,\n",
       " 727,\n",
       " 729,\n",
       " 730,\n",
       " 731,\n",
       " 732,\n",
       " 733,\n",
       " 734,\n",
       " 736,\n",
       " 739,\n",
       " 740,\n",
       " 741,\n",
       " 742,\n",
       " 743,\n",
       " 744,\n",
       " 750,\n",
       " 753,\n",
       " 755,\n",
       " 756,\n",
       " 759,\n",
       " 762,\n",
       " 763,\n",
       " 767,\n",
       " 774,\n",
       " 775,\n",
       " 776,\n",
       " 777,\n",
       " 778,\n",
       " 783,\n",
       " 784,\n",
       " 787,\n",
       " 790,\n",
       " 791]"
      ]
     },
     "execution_count": 523,
     "metadata": {},
     "output_type": "execute_result"
    }
   ],
   "source": [
    "target_grouping_num_cat[0][0]"
   ]
  },
  {
   "cell_type": "code",
   "execution_count": 524,
   "metadata": {},
   "outputs": [
    {
     "data": {
      "text/plain": [
       "[1,\n",
       " 4,\n",
       " 6,\n",
       " 8,\n",
       " 10,\n",
       " 11,\n",
       " 13,\n",
       " 16,\n",
       " 17,\n",
       " 18,\n",
       " 20,\n",
       " 22,\n",
       " 23,\n",
       " 24,\n",
       " 26,\n",
       " 29,\n",
       " 33,\n",
       " 36,\n",
       " 39,\n",
       " 40,\n",
       " 42,\n",
       " 43,\n",
       " 44,\n",
       " 45,\n",
       " 53,\n",
       " 55,\n",
       " 56,\n",
       " 60,\n",
       " 62,\n",
       " 69,\n",
       " 70,\n",
       " 71,\n",
       " 75,\n",
       " 76,\n",
       " 77,\n",
       " 78,\n",
       " 84,\n",
       " 85,\n",
       " 86,\n",
       " 90,\n",
       " 92,\n",
       " 96,\n",
       " 98,\n",
       " 100,\n",
       " 102,\n",
       " 103,\n",
       " 110,\n",
       " 111,\n",
       " 112,\n",
       " 113,\n",
       " 117,\n",
       " 118,\n",
       " 119,\n",
       " 122,\n",
       " 127,\n",
       " 130,\n",
       " 131,\n",
       " 137,\n",
       " 138,\n",
       " 142,\n",
       " 144,\n",
       " 146,\n",
       " 147,\n",
       " 154,\n",
       " 155,\n",
       " 156,\n",
       " 161,\n",
       " 162,\n",
       " 165,\n",
       " 166,\n",
       " 171,\n",
       " 172,\n",
       " 175,\n",
       " 176,\n",
       " 178,\n",
       " 179,\n",
       " 182,\n",
       " 184,\n",
       " 188,\n",
       " 192,\n",
       " 194,\n",
       " 199,\n",
       " 200,\n",
       " 201,\n",
       " 202,\n",
       " 207,\n",
       " 209,\n",
       " 210,\n",
       " 218,\n",
       " 222,\n",
       " 225,\n",
       " 228,\n",
       " 230,\n",
       " 234,\n",
       " 235,\n",
       " 236,\n",
       " 240,\n",
       " 242,\n",
       " 245,\n",
       " 247,\n",
       " 249,\n",
       " 250,\n",
       " 253,\n",
       " 255,\n",
       " 256,\n",
       " 264,\n",
       " 268,\n",
       " 271,\n",
       " 273,\n",
       " 276,\n",
       " 279,\n",
       " 280,\n",
       " 281,\n",
       " 284,\n",
       " 288,\n",
       " 290,\n",
       " 291,\n",
       " 293,\n",
       " 294,\n",
       " 296,\n",
       " 298,\n",
       " 299,\n",
       " 303,\n",
       " 305,\n",
       " 306,\n",
       " 307,\n",
       " 310,\n",
       " 313,\n",
       " 314,\n",
       " 316,\n",
       " 317,\n",
       " 320,\n",
       " 322,\n",
       " 323,\n",
       " 326,\n",
       " 328,\n",
       " 329,\n",
       " 330,\n",
       " 335,\n",
       " 338,\n",
       " 343,\n",
       " 344,\n",
       " 345,\n",
       " 348,\n",
       " 354,\n",
       " 355,\n",
       " 356,\n",
       " 357,\n",
       " 361,\n",
       " 362,\n",
       " 363,\n",
       " 365,\n",
       " 366,\n",
       " 367,\n",
       " 373,\n",
       " 374,\n",
       " 376,\n",
       " 377,\n",
       " 379,\n",
       " 385,\n",
       " 386,\n",
       " 387,\n",
       " 391,\n",
       " 395,\n",
       " 397,\n",
       " 398,\n",
       " 401,\n",
       " 404,\n",
       " 405,\n",
       " 407,\n",
       " 408,\n",
       " 410,\n",
       " 412,\n",
       " 414,\n",
       " 415,\n",
       " 416,\n",
       " 418,\n",
       " 420,\n",
       " 421,\n",
       " 423,\n",
       " 426,\n",
       " 427,\n",
       " 428,\n",
       " 430,\n",
       " 432,\n",
       " 435,\n",
       " 439,\n",
       " 440,\n",
       " 447,\n",
       " 448,\n",
       " 449,\n",
       " 453,\n",
       " 455,\n",
       " 462,\n",
       " 465,\n",
       " 468,\n",
       " 469,\n",
       " 470,\n",
       " 472,\n",
       " 474,\n",
       " 475,\n",
       " 476,\n",
       " 477,\n",
       " 480,\n",
       " 483,\n",
       " 485,\n",
       " 487,\n",
       " 488,\n",
       " 491,\n",
       " 493,\n",
       " 494,\n",
       " 495,\n",
       " 496,\n",
       " 497,\n",
       " 498,\n",
       " 499,\n",
       " 500,\n",
       " 506,\n",
       " 508,\n",
       " 511,\n",
       " 514,\n",
       " 516,\n",
       " 518,\n",
       " 521,\n",
       " 522,\n",
       " 523,\n",
       " 525,\n",
       " 526,\n",
       " 530,\n",
       " 533,\n",
       " 534,\n",
       " 536,\n",
       " 537,\n",
       " 539,\n",
       " 540,\n",
       " 543,\n",
       " 544,\n",
       " 545,\n",
       " 546,\n",
       " 547,\n",
       " 548,\n",
       " 556,\n",
       " 558,\n",
       " 559,\n",
       " 560,\n",
       " 562,\n",
       " 564,\n",
       " 567,\n",
       " 569,\n",
       " 572,\n",
       " 575,\n",
       " 576,\n",
       " 579,\n",
       " 587,\n",
       " 588,\n",
       " 589,\n",
       " 590,\n",
       " 593,\n",
       " 596,\n",
       " 598,\n",
       " 600,\n",
       " 604,\n",
       " 605,\n",
       " 607,\n",
       " 608,\n",
       " 609,\n",
       " 613,\n",
       " 615,\n",
       " 617,\n",
       " 619,\n",
       " 624,\n",
       " 626,\n",
       " 627,\n",
       " 631,\n",
       " 634,\n",
       " 636,\n",
       " 640,\n",
       " 642,\n",
       " 644,\n",
       " 645,\n",
       " 646,\n",
       " 647,\n",
       " 648,\n",
       " 649,\n",
       " 650,\n",
       " 651,\n",
       " 652,\n",
       " 655,\n",
       " 660,\n",
       " 661,\n",
       " 664,\n",
       " 665,\n",
       " 666,\n",
       " 668,\n",
       " 669,\n",
       " 670,\n",
       " 671,\n",
       " 673,\n",
       " 674,\n",
       " 675,\n",
       " 676,\n",
       " 678,\n",
       " 686,\n",
       " 687,\n",
       " 688,\n",
       " 689,\n",
       " 692,\n",
       " 693,\n",
       " 695,\n",
       " 697,\n",
       " 699,\n",
       " 700,\n",
       " 704,\n",
       " 705,\n",
       " 708,\n",
       " 709,\n",
       " 713,\n",
       " 714,\n",
       " 715,\n",
       " 716,\n",
       " 718,\n",
       " 719,\n",
       " 722,\n",
       " 724,\n",
       " 726,\n",
       " 728,\n",
       " 735,\n",
       " 737,\n",
       " 738,\n",
       " 745,\n",
       " 746,\n",
       " 747,\n",
       " 748,\n",
       " 749,\n",
       " 751,\n",
       " 752,\n",
       " 754,\n",
       " 757,\n",
       " 758,\n",
       " 760,\n",
       " 761,\n",
       " 764,\n",
       " 765,\n",
       " 766,\n",
       " 768,\n",
       " 769,\n",
       " 770,\n",
       " 771,\n",
       " 772,\n",
       " 773,\n",
       " 779,\n",
       " 780,\n",
       " 781,\n",
       " 782,\n",
       " 785,\n",
       " 786,\n",
       " 788,\n",
       " 789]"
      ]
     },
     "execution_count": 524,
     "metadata": {},
     "output_type": "execute_result"
    }
   ],
   "source": [
    "target_grouping_num_cat[0][1]"
   ]
  },
  {
   "cell_type": "code",
   "execution_count": 525,
   "metadata": {},
   "outputs": [
    {
     "name": "stdout",
     "output_type": "stream",
     "text": [
      "{'25%': 54.0,\n",
      " '50%': 70.0,\n",
      " '75%': 92.0,\n",
      " 'count': 3957,\n",
      " 'max': 988.0,\n",
      " 'mean': 89.21929375639712,\n",
      " 'min': 11.0,\n",
      " 'nan_count': 0,\n",
      " 'std': 72.88558556797253}\n"
     ]
    }
   ],
   "source": [
    "creatinine_index=0\n",
    "import fatf.transparency.data.describe_functions as fatf_describe_data\n",
    "creatinine_desc=fatf_describe_data.describe_array(dataset.iloc[:, 0].to_numpy())\n",
    "pprint(creatinine_desc)"
   ]
  },
  {
   "cell_type": "code",
   "execution_count": 526,
   "metadata": {},
   "outputs": [
    {
     "name": "stdout",
     "output_type": "stream",
     "text": [
      "{'25%': 53.0,\n",
      " '50%': 69.5,\n",
      " '75%': 89.0,\n",
      " 'count': 434,\n",
      " 'max': 641.0,\n",
      " 'mean': 81.72883816253082,\n",
      " 'min': 18.0,\n",
      " 'nan_count': 0,\n",
      " 'std': 56.25120168178726}\n"
     ]
    }
   ],
   "source": [
    "creatinine_class0 = dataset.iloc[target_grouping_num_cat[0][0],creatinine_index].to_numpy()\n",
    "creatinine_class0_desc = fatf_describe_data.describe_array(creatinine_class0)\n",
    "pprint(creatinine_class0_desc)"
   ]
  },
  {
   "cell_type": "code",
   "execution_count": 527,
   "metadata": {},
   "outputs": [
    {
     "name": "stdout",
     "output_type": "stream",
     "text": [
      "{'25%': 56.0,\n",
      " '50%': 66.0,\n",
      " '75%': 86.75,\n",
      " 'count': 358,\n",
      " 'max': 675.0,\n",
      " 'mean': 82.32831021311391,\n",
      " 'min': 13.0,\n",
      " 'nan_count': 0,\n",
      " 'std': 60.38029478632298}\n"
     ]
    }
   ],
   "source": [
    "creatinine_class1 = dataset.iloc[target_grouping_num_cat[0][1],creatinine_index].to_numpy()\n",
    "creatinine_class1_desc = fatf_describe_data.describe_array(creatinine_class1)\n",
    "pprint(creatinine_class1_desc)"
   ]
  },
  {
   "cell_type": "code",
   "execution_count": null,
   "metadata": {},
   "outputs": [],
   "source": []
  },
  {
   "cell_type": "code",
   "execution_count": 528,
   "metadata": {},
   "outputs": [],
   "source": [
    "test_data=np.column_stack((xtest,ytest))"
   ]
  },
  {
   "cell_type": "code",
   "execution_count": 537,
   "metadata": {},
   "outputs": [
    {
     "data": {
      "text/plain": [
       "['x <= 59', '59 < x <= 82', '82 < x']"
      ]
     },
     "execution_count": 537,
     "metadata": {},
     "output_type": "execute_result"
    }
   ],
   "source": [
    "creatinine_groups=[59,82]\n",
    "creatinine_grouping=fatf_data_tools.group_by_column(test_data, creatinine_index, groupings=creatinine_groups)\n",
    "creatinine_grouping[1]"
   ]
  },
  {
   "cell_type": "code",
   "execution_count": 538,
   "metadata": {},
   "outputs": [
    {
     "data": {
      "text/plain": [
       "269"
      ]
     },
     "execution_count": 538,
     "metadata": {},
     "output_type": "execute_result"
    }
   ],
   "source": [
    "len(creatinine_grouping[0][0])"
   ]
  },
  {
   "cell_type": "code",
   "execution_count": 539,
   "metadata": {},
   "outputs": [
    {
     "data": {
      "text/plain": [
       "265"
      ]
     },
     "execution_count": 539,
     "metadata": {},
     "output_type": "execute_result"
    }
   ],
   "source": [
    "len(creatinine_grouping[0][1])"
   ]
  },
  {
   "cell_type": "code",
   "execution_count": 540,
   "metadata": {},
   "outputs": [
    {
     "data": {
      "text/plain": [
       "258"
      ]
     },
     "execution_count": 540,
     "metadata": {},
     "output_type": "execute_result"
    }
   ],
   "source": [
    "len(creatinine_grouping[0][2])"
   ]
  },
  {
   "cell_type": "code",
   "execution_count": 541,
   "metadata": {},
   "outputs": [
    {
     "data": {
      "text/plain": [
       "array([[False, False, False],\n",
       "       [False, False, False],\n",
       "       [False, False, False]])"
      ]
     },
     "execution_count": 541,
     "metadata": {},
     "output_type": "execute_result"
    }
   ],
   "source": [
    "import fatf.accountability.data.measures as fatf_accountability_data\n",
    "counts_per_grouping = [len(i) for i in creatinine_grouping[0]]\n",
    "fatf_accountability_data.sampling_bias_grid_check(counts_per_grouping)"
   ]
  },
  {
   "cell_type": "code",
   "execution_count": 543,
   "metadata": {},
   "outputs": [],
   "source": [
    "import fatf.utils.metrics.tools as fatf_metrics_tools\n",
    "target_grid=ytest.to_numpy()\n",
    "grouping_cm = fatf_metrics_tools.confusion_matrix_per_subgroup_indexed(creatinine_grouping[0], target_grid, rgrid_pred,labels=np.unique(target_grid).tolist())"
   ]
  },
  {
   "cell_type": "code",
   "execution_count": 544,
   "metadata": {},
   "outputs": [
    {
     "data": {
      "text/plain": [
       "0.7657992565055762"
      ]
     },
     "execution_count": 544,
     "metadata": {},
     "output_type": "execute_result"
    }
   ],
   "source": [
    "import fatf.utils.metrics.metrics as fatf_metrics\n",
    "group_0_acc = fatf_metrics.accuracy(grouping_cm[0])\n",
    "group_0_acc"
   ]
  },
  {
   "cell_type": "code",
   "execution_count": 545,
   "metadata": {},
   "outputs": [
    {
     "data": {
      "text/plain": [
       "0.8113207547169812"
      ]
     },
     "execution_count": 545,
     "metadata": {},
     "output_type": "execute_result"
    }
   ],
   "source": [
    "group_1_acc = fatf_metrics.accuracy(grouping_cm[1])\n",
    "group_1_acc"
   ]
  },
  {
   "cell_type": "code",
   "execution_count": 546,
   "metadata": {},
   "outputs": [
    {
     "data": {
      "text/plain": [
       "0.7596899224806202"
      ]
     },
     "execution_count": 546,
     "metadata": {},
     "output_type": "execute_result"
    }
   ],
   "source": [
    "group_2_acc = fatf_metrics.accuracy(grouping_cm[2])\n",
    "group_2_acc"
   ]
  },
  {
   "cell_type": "code",
   "execution_count": 547,
   "metadata": {},
   "outputs": [
    {
     "data": {
      "text/plain": [
       "array([[False, False, False],\n",
       "       [False, False, False],\n",
       "       [False, False, False]])"
      ]
     },
     "execution_count": 547,
     "metadata": {},
     "output_type": "execute_result"
    }
   ],
   "source": [
    "import fatf.accountability.models.measures as fatf_accountability_models\n",
    "\n",
    "fatf_accountability_models.systematic_performance_bias_grid([group_0_acc, group_1_acc, group_2_acc])"
   ]
  },
  {
   "cell_type": "code",
   "execution_count": null,
   "metadata": {},
   "outputs": [],
   "source": []
  },
  {
   "cell_type": "code",
   "execution_count": null,
   "metadata": {},
   "outputs": [],
   "source": []
  },
  {
   "cell_type": "code",
   "execution_count": 580,
   "metadata": {},
   "outputs": [
    {
     "data": {
      "text/plain": [
       "['(0.0,)', '(1.0,)']"
      ]
     },
     "execution_count": 580,
     "metadata": {},
     "output_type": "execute_result"
    }
   ],
   "source": [
    "import fatf.utils.data.tools as fatf_data_tools\n",
    "airway_index=14\n",
    "airway_grouping = fatf_data_tools.group_by_column(dataset.to_numpy(), airway_index,treat_as_categorical=True)\n",
    "airway_grouping[1]"
   ]
  },
  {
   "cell_type": "code",
   "execution_count": 582,
   "metadata": {},
   "outputs": [
    {
     "data": {
      "text/plain": [
       "(array([0, 1]), array([1048, 1717]))"
      ]
     },
     "execution_count": 582,
     "metadata": {},
     "output_type": "execute_result"
    }
   ],
   "source": [
    "airway_target0 = y[airway_grouping[0][0]]\n",
    "airway_target0_counts = np.unique(airway_target0, return_counts=True)\n",
    "airway_target0_counts"
   ]
  },
  {
   "cell_type": "code",
   "execution_count": 583,
   "metadata": {},
   "outputs": [
    {
     "data": {
      "text/plain": [
       "(array([0, 1]), array([1108,   84]))"
      ]
     },
     "execution_count": 583,
     "metadata": {},
     "output_type": "execute_result"
    }
   ],
   "source": [
    "airway_target1 = y[airway_grouping[0][1]]\n",
    "airway_target1_counts = np.unique(airway_target1, return_counts=True)\n",
    "airway_target1_counts"
   ]
  },
  {
   "cell_type": "code",
   "execution_count": 584,
   "metadata": {},
   "outputs": [
    {
     "data": {
      "text/plain": [
       "0.3790235081374322"
      ]
     },
     "execution_count": 584,
     "metadata": {},
     "output_type": "execute_result"
    }
   ],
   "source": [
    "no_airway_fail_ratio = airway_target0_counts[1][0]/airway_target0_counts[1].sum()\n",
    "no_airway_fail_ratio"
   ]
  },
  {
   "cell_type": "code",
   "execution_count": 585,
   "metadata": {},
   "outputs": [
    {
     "data": {
      "text/plain": [
       "0.9295302013422819"
      ]
     },
     "execution_count": 585,
     "metadata": {},
     "output_type": "execute_result"
    }
   ],
   "source": [
    "with_airway_fail_ratio = airway_target1_counts[1][0]/airway_target1_counts[1].sum()\n",
    "with_airway_fail_ratio"
   ]
  },
  {
   "cell_type": "code",
   "execution_count": null,
   "metadata": {},
   "outputs": [],
   "source": []
  },
  {
   "cell_type": "code",
   "execution_count": 589,
   "metadata": {},
   "outputs": [
    {
     "name": "stdout",
     "output_type": "stream",
     "text": [
      "Randomized GSCV Confusion Matrix: \n",
      " [[2042  114]\n",
      " [  93 1708]]\n",
      "Randomized GSCV Accuracy(whole dataset):  0.9476876421531463\n"
     ]
    }
   ],
   "source": [
    "predictions=rf_random.predict(x)\n",
    "cm2 = confusion_matrix(y,predictions)\n",
    "print (\"Randomized GSCV Confusion Matrix: \\n\", cm2)\n",
    "print (\"Randomized GSCV Accuracy(whole dataset): \", accuracy_score(y, predictions))"
   ]
  },
  {
   "cell_type": "code",
   "execution_count": 591,
   "metadata": {},
   "outputs": [],
   "source": [
    "import fatf.utils.metrics.tools as fatf_metric_tools\n",
    "import fatf.utils.metrics.metrics as fatf_performance_metrics\n",
    "\n",
    "airway_cm = fatf_metric_tools.confusion_matrix_per_subgroup_indexed(airway_grouping[0],y.to_numpy(),predictions,labels=np.unique(y.to_numpy()).tolist())"
   ]
  },
  {
   "cell_type": "code",
   "execution_count": 592,
   "metadata": {},
   "outputs": [
    {
     "data": {
      "text/plain": [
       "0.9392405063291139"
      ]
     },
     "execution_count": 592,
     "metadata": {},
     "output_type": "execute_result"
    }
   ],
   "source": [
    "fatf_performance_metrics.accuracy(airway_cm[0])"
   ]
  },
  {
   "cell_type": "code",
   "execution_count": 593,
   "metadata": {},
   "outputs": [
    {
     "data": {
      "text/plain": [
       "0.9672818791946308"
      ]
     },
     "execution_count": 593,
     "metadata": {},
     "output_type": "execute_result"
    }
   ],
   "source": [
    "fatf_performance_metrics.accuracy(airway_cm[1])"
   ]
  },
  {
   "cell_type": "code",
   "execution_count": 594,
   "metadata": {},
   "outputs": [
    {
     "data": {
      "text/plain": [
       "False"
      ]
     },
     "execution_count": 594,
     "metadata": {},
     "output_type": "execute_result"
    }
   ],
   "source": [
    "import fatf.fairness.models.measures as fatf_fairness_models\n",
    "airway_equal_accuracy = fatf_fairness_models.equal_accuracy(airway_cm)\n",
    "fatf_fairness_models.disparate_impact_check(airway_equal_accuracy)"
   ]
  },
  {
   "cell_type": "code",
   "execution_count": 595,
   "metadata": {},
   "outputs": [
    {
     "data": {
      "text/plain": [
       "False"
      ]
     },
     "execution_count": 595,
     "metadata": {},
     "output_type": "execute_result"
    }
   ],
   "source": [
    "airway_equal_opportunity = fatf_fairness_models.equal_opportunity(airway_cm)\n",
    ">>> fatf_fairness_models.disparate_impact_check(airway_equal_opportunity)"
   ]
  },
  {
   "cell_type": "code",
   "execution_count": 596,
   "metadata": {},
   "outputs": [
    {
     "data": {
      "text/plain": [
       "False"
      ]
     },
     "execution_count": 596,
     "metadata": {},
     "output_type": "execute_result"
    }
   ],
   "source": [
    "airway_demographic_parity = fatf_fairness_models.demographic_parity(airway_cm)\n",
    "fatf_fairness_models.disparate_impact_check(airway_demographic_parity)"
   ]
  },
  {
   "cell_type": "code",
   "execution_count": null,
   "metadata": {},
   "outputs": [],
   "source": []
  },
  {
   "cell_type": "code",
   "execution_count": null,
   "metadata": {},
   "outputs": [],
   "source": []
  },
  {
   "cell_type": "code",
   "execution_count": 605,
   "metadata": {},
   "outputs": [
    {
     "data": {
      "text/plain": [
       "30"
      ]
     },
     "execution_count": 605,
     "metadata": {},
     "output_type": "execute_result"
    }
   ],
   "source": [
    "indices_data_eval = (list(range(100, 110)) + list(range(350, 360)) + list(range(600, 610)))\n",
    "len(indices_data_eval)"
   ]
  },
  {
   "cell_type": "code",
   "execution_count": 632,
   "metadata": {},
   "outputs": [],
   "source": [
    "data_eval = xtest.to_numpy()[indices_data_eval, :]\n",
    "target_eval = ytest.to_numpy()[indices_data_eval]"
   ]
  },
  {
   "cell_type": "code",
   "execution_count": 633,
   "metadata": {},
   "outputs": [
    {
     "data": {
      "text/plain": [
       "(array([0, 1]), array([20, 10]))"
      ]
     },
     "execution_count": 633,
     "metadata": {},
     "output_type": "execute_result"
    }
   ],
   "source": [
    "np.unique(target_eval, return_counts=True)"
   ]
  },
  {
   "cell_type": "code",
   "execution_count": 638,
   "metadata": {},
   "outputs": [],
   "source": [
    "import fatf.transparency.models.feature_influence as fatf_fi\n",
    "rf_FAT = RandomForestClassifier(n_estimators=1200,min_samples_split=2,min_samples_leaf=4,max_features='auto',max_depth=None,bootstrap=False,random_state=0)\n",
    "rf_FAT.fit(xtrain,ytrain)\n",
    "ice_array, ice_linspace = fatf_fi.individual_conditional_expectation( data_eval, rf_FAT, creatinine_index, steps_number=100)"
   ]
  },
  {
   "cell_type": "code",
   "execution_count": 640,
   "metadata": {},
   "outputs": [
    {
     "data": {
      "image/png": "[encoded data removed]",
      "text/plain": [
       "<Figure size 576x396 with 1 Axes>"
      ]
     },
     "metadata": {},
     "output_type": "display_data"
    }
   ],
   "source": [
    "import fatf.vis.feature_influence as fatf_vis_fi\n",
    "target0_class_index=0\n",
    "target0_class_name='fail discharge'\n",
    "ice_plot = fatf_vis_fi.plot_individual_conditional_expectation(ice_array,ice_linspace,target0_class_index,class_name=target0_class_name,feature_name='creatinine')"
   ]
  },
  {
   "cell_type": "code",
   "execution_count": 642,
   "metadata": {},
   "outputs": [
    {
     "data": {
      "image/png": "[encoded data removed]",
      "text/plain": [
       "<Figure size 576x396 with 1 Axes>"
      ]
     },
     "metadata": {},
     "output_type": "display_data"
    }
   ],
   "source": [
    "\n",
    "ice_plot_1 = fatf_vis_fi.plot_individual_conditional_expectation(ice_array[0:20,:,:],ice_linspace,target0_class_index,class_name=target0_class_name,feature_name='creatinine')\n",
    "\n"
   ]
  },
  {
   "cell_type": "code",
   "execution_count": 643,
   "metadata": {},
   "outputs": [
    {
     "data": {
      "image/png": "[encoded data removed]",
      "text/plain": [
       "<Figure size 576x396 with 1 Axes>"
      ]
     },
     "metadata": {},
     "output_type": "display_data"
    }
   ],
   "source": [
    "ice_plot_0= fatf_vis_fi.plot_individual_conditional_expectation(ice_array[20:30,:,:],ice_linspace,target0_class_index,class_name=target0_class_name,feature_name='creatinine')"
   ]
  },
  {
   "cell_type": "code",
   "execution_count": null,
   "metadata": {},
   "outputs": [],
   "source": []
  },
  {
   "cell_type": "code",
   "execution_count": 652,
   "metadata": {},
   "outputs": [
    {
     "data": {
      "image/png": "[encoded data removed]",
      "text/plain": [
       "<Figure size 576x396 with 1 Axes>"
      ]
     },
     "metadata": {},
     "output_type": "display_data"
    }
   ],
   "source": [
    "hist_plot = plt.figure()\n",
    "hist = plt.hist(dataset.to_numpy()[:, creatinine_index], bins=30)"
   ]
  },
  {
   "cell_type": "code",
   "execution_count": 654,
   "metadata": {},
   "outputs": [
    {
     "data": {
      "image/png": "[encoded data removed]",
      "text/plain": [
       "<Figure size 576x396 with 1 Axes>"
      ]
     },
     "metadata": {},
     "output_type": "display_data"
    }
   ],
   "source": [
    "pd_array = fatf_fi.partial_dependence_ice(ice_array)\n",
    "pd_plot = fatf_vis_fi.plot_partial_dependence(pd_array,ice_linspace,target0_class_index,class_name=target0_class_name,feature_name='creatinine')"
   ]
  },
  {
   "cell_type": "code",
   "execution_count": 656,
   "metadata": {},
   "outputs": [
    {
     "data": {
      "image/png": "[encoded data removed]",
      "text/plain": [
       "<Figure size 576x396 with 1 Axes>"
      ]
     },
     "metadata": {},
     "output_type": "display_data"
    }
   ],
   "source": [
    "ice_re_plot=fatf_vis_fi.plot_individual_conditional_expectation(ice_array,ice_linspace,target0_class_index,class_name=target0_class_name,feature_name='creatinine')\n",
    "ice_re_plot_figure, ice_re_plot_axis = ice_re_plot\n",
    "pd_re_plot = fatf_vis_fi.plot_partial_dependence(pd_array,ice_linspace,target0_class_index,class_name=target0_class_name,feature_name='creatinine',plot_axis=ice_re_plot_axis)\n",
    "\n",
    "\n",
    "\n"
   ]
  },
  {
   "cell_type": "code",
   "execution_count": null,
   "metadata": {},
   "outputs": [],
   "source": []
  },
  {
   "cell_type": "code",
   "execution_count": 670,
   "metadata": {},
   "outputs": [],
   "source": [
    "def describe_data_point(data_point_index):\n",
    "...     \"\"\"Prints out a data point with the specified given index.\"\"\"\n",
    "...     dp_to_explain = dataset.to_numpy()[data_point_index, :]\n",
    "...     dp_to_explain_class_index = target[data_point_index]\n",
    "...     target_names=['fail discharge','success discharge']\n",
    "...     dp_to_explain_class = target_names[dp_to_explain_class_index]\n",
    "...\n",
    "...     feature_description_template = '    * {} (feature index {}): {:.1f}'\n",
    "...     features_description = []\n",
    "...     for i, name in enumerate(features):\n",
    "...         dsc = feature_description_template.format(\n",
    "...             name, i, dp_to_explain[i])\n",
    "...         features_description.append(dsc)\n",
    "...     features_description = ',\\n'.join(features_description)\n",
    "...\n",
    "...     data_point_description = (\n",
    "...         'The data point with index {}, of class {} '\n",
    "...         'has the\\nfollowing feature values:\\n{}.'.format(\n",
    "...             data_point_index,\n",
    "...             dp_to_explain_class,\n",
    "...             features_description))\n",
    "...\n",
    "...     print(data_point_description)"
   ]
  },
  {
   "cell_type": "code",
   "execution_count": 711,
   "metadata": {},
   "outputs": [
    {
     "name": "stdout",
     "output_type": "stream",
     "text": [
      "The data point with index 8, of class success discharge has the\n",
      "following feature values:\n",
      "    * creatinine (feature index 0): 61.0,\n",
      "    * po2 (feature index 1): 10.8,\n",
      "    * fio2 (feature index 2): 28.0,\n",
      "    * pco2 (feature index 3): 5.3,\n",
      "    * bp_min (feature index 4): 74.0,\n",
      "    * bp_max (feature index 5): 107.0,\n",
      "    * pain (feature index 6): 0.0,\n",
      "    * k (feature index 7): 4.2,\n",
      "    * hr_min (feature index 8): 73.0,\n",
      "    * hr_max (feature index 9): 78.0,\n",
      "    * gcs_min (feature index 10): 15.0,\n",
      "    * gcs_max (feature index 11): 15.0,\n",
      "    * bun (feature index 12): 3.4,\n",
      "    * hco3 (feature index 13): 25.4,\n",
      "    * airway (feature index 14): 0.0,\n",
      "    * resp_min (feature index 15): 12.0,\n",
      "    * resp_max (feature index 16): 18.0,\n",
      "    * haemoglobin (feature index 17): 116.0,\n",
      "    * spo2_min (feature index 18): 97.0,\n",
      "    * spo2_max (feature index 19): 98.0,\n",
      "    * temp_min (feature index 20): 38.2,\n",
      "    * temp_max (feature index 21): 38.2,\n",
      "    * na (feature index 22): 134.0.\n"
     ]
    }
   ],
   "source": [
    "index_instance1 = 8\n",
    "x_instance1 = x.to_numpy()[index_instance1,:]\n",
    "y_instance1 = target[index_instance1]\n",
    "describe_data_point(index_instance1)"
   ]
  },
  {
   "cell_type": "code",
   "execution_count": 712,
   "metadata": {},
   "outputs": [
    {
     "name": "stdout",
     "output_type": "stream",
     "text": [
      "The data point with index 9, of class fail discharge has the\n",
      "following feature values:\n",
      "    * creatinine (feature index 0): 41.0,\n",
      "    * po2 (feature index 1): 13.1,\n",
      "    * fio2 (feature index 2): 29.8,\n",
      "    * pco2 (feature index 3): 4.5,\n",
      "    * bp_min (feature index 4): 116.0,\n",
      "    * bp_max (feature index 5): 134.0,\n",
      "    * pain (feature index 6): 2.0,\n",
      "    * k (feature index 7): 3.3,\n",
      "    * hr_min (feature index 8): 86.0,\n",
      "    * hr_max (feature index 9): 91.0,\n",
      "    * gcs_min (feature index 10): 15.0,\n",
      "    * gcs_max (feature index 11): 15.0,\n",
      "    * bun (feature index 12): 2.1,\n",
      "    * hco3 (feature index 13): 18.4,\n",
      "    * airway (feature index 14): 0.0,\n",
      "    * resp_min (feature index 15): 15.0,\n",
      "    * resp_max (feature index 16): 18.0,\n",
      "    * haemoglobin (feature index 17): 119.0,\n",
      "    * spo2_min (feature index 18): 100.0,\n",
      "    * spo2_max (feature index 19): 100.0,\n",
      "    * temp_min (feature index 20): 37.0,\n",
      "    * temp_max (feature index 21): 37.2,\n",
      "    * na (feature index 22): 141.0.\n"
     ]
    }
   ],
   "source": [
    "index_instance0 = 9\n",
    "x_instance0 = x.to_numpy()[index_instance0,:]\n",
    "y_instance0 = target[index_instance0]\n",
    "describe_data_point(index_instance0)"
   ]
  },
  {
   "cell_type": "code",
   "execution_count": 713,
   "metadata": {},
   "outputs": [],
   "source": [
    "import fatf.transparency.predictions.counterfactuals as fatf_cf\n",
    "rf_cf_explainer = fatf_cf.CounterfactualExplainer(\n",
    "model=rf_FAT,\n",
    "dataset=dataset.to_numpy(),\n",
    "categorical_indices=[],\n",
    "default_numerical_step_size=0.1)"
   ]
  },
  {
   "cell_type": "code",
   "execution_count": 716,
   "metadata": {},
   "outputs": [
    {
     "ename": "IndexError",
     "evalue": "The indices used to initialise this class are not valid for this data point.",
     "output_type": "error",
     "traceback": [
      "\u001b[0;31m---------------------------------------------------------------------------\u001b[0m",
      "\u001b[0;31mIndexError\u001b[0m                                Traceback (most recent call last)",
      "\u001b[0;32m<ipython-input-716-f46cec42ee28>\u001b[0m in \u001b[0;36m<module>\u001b[0;34m\u001b[0m\n\u001b[0;32m----> 1\u001b[0;31m \u001b[0minstance1_cfs\u001b[0m \u001b[0;34m=\u001b[0m \u001b[0mrf_cf_explainer\u001b[0m\u001b[0;34m.\u001b[0m\u001b[0mexplain_instance\u001b[0m\u001b[0;34m(\u001b[0m\u001b[0mx_instance0\u001b[0m\u001b[0;34m)\u001b[0m\u001b[0;34m\u001b[0m\u001b[0;34m\u001b[0m\u001b[0m\n\u001b[0m\u001b[1;32m      2\u001b[0m \u001b[0minstance1_cfs_data\u001b[0m \u001b[0;34m=\u001b[0m \u001b[0minstance1_cfs\u001b[0m\u001b[0;34m[\u001b[0m\u001b[0;36m0\u001b[0m\u001b[0;34m]\u001b[0m\u001b[0;34m\u001b[0m\u001b[0;34m\u001b[0m\u001b[0m\n\u001b[1;32m      3\u001b[0m \u001b[0minstance1_cfs_distances\u001b[0m \u001b[0;34m=\u001b[0m \u001b[0minstance1_cfs\u001b[0m\u001b[0;34m[\u001b[0m\u001b[0;36m1\u001b[0m\u001b[0;34m]\u001b[0m\u001b[0;34m\u001b[0m\u001b[0;34m\u001b[0m\u001b[0m\n\u001b[1;32m      4\u001b[0m \u001b[0minstance1_cfs_predictions\u001b[0m \u001b[0;34m=\u001b[0m \u001b[0minstance1_cfs\u001b[0m\u001b[0;34m[\u001b[0m\u001b[0;36m2\u001b[0m\u001b[0;34m]\u001b[0m\u001b[0;34m\u001b[0m\u001b[0;34m\u001b[0m\u001b[0m\n",
      "\u001b[0;32m//anaconda3/lib/python3.7/site-packages/fatf/transparency/predictions/counterfactuals.py\u001b[0m in \u001b[0;36mexplain_instance\u001b[0;34m(self, instance, counterfactual_class, normalise_distance)\u001b[0m\n\u001b[1;32m    782\u001b[0m         if not fuat.are_indices_valid(instance_2d,\n\u001b[1;32m    783\u001b[0m                                       np.array(list(self.all_indices))):\n\u001b[0;32m--> 784\u001b[0;31m             raise IndexError('The indices used to initialise this class are '\n\u001b[0m\u001b[1;32m    785\u001b[0m                              'not valid for this data point.')\n\u001b[1;32m    786\u001b[0m         \u001b[0;32mif\u001b[0m \u001b[0mcounterfactual_class\u001b[0m \u001b[0;32mis\u001b[0m \u001b[0;32mnot\u001b[0m \u001b[0;32mNone\u001b[0m\u001b[0;34m:\u001b[0m\u001b[0;34m\u001b[0m\u001b[0;34m\u001b[0m\u001b[0m\n",
      "\u001b[0;31mIndexError\u001b[0m: The indices used to initialise this class are not valid for this data point."
     ]
    }
   ],
   "source": [
    "instance1_cfs = rf_cf_explainer.explain_instance(x_instance0)\n",
    "instance1_cfs_data = instance1_cfs[0]\n",
    "instance1_cfs_distances = instance1_cfs[1]\n",
    "instance1_cfs_predictions = instance1_cfs[2]"
   ]
  },
  {
   "cell_type": "code",
   "execution_count": null,
   "metadata": {},
   "outputs": [],
   "source": [
    "print('I cant figure out this error)"
   ]
  }
 ],
 "metadata": {
  "kernelspec": {
   "display_name": "Python 3",
   "language": "python",
   "name": "python3"
  },
  "language_info": {
   "codemirror_mode": {
    "name": "ipython",
    "version": 3
   },
   "file_extension": ".py",
   "mimetype": "text/x-python",
   "name": "python",
   "nbconvert_exporter": "python",
   "pygments_lexer": "ipython3",
   "version": "3.7.3"
  }
 },
 "nbformat": 4,
 "nbformat_minor": 2
}
