{
 "cells": [
  {
   "cell_type": "code",
   "execution_count": 101,
   "metadata": {},
   "outputs": [],
   "source": [
    "import pandas as pd\n",
    "import numpy as np\n",
    "from sklearn import metrics\n",
    "from sklearn.linear_model import LogisticRegression\n",
    "import matplotlib.pyplot as plt\n",
    "\n",
    "dataset = pd.read_csv(\"dataset.csv\")"
   ]
  },
  {
   "cell_type": "code",
   "execution_count": 102,
   "metadata": {},
   "outputs": [],
   "source": [
    "dataset[\"creatinine\"].fillna(dataset[\"creatinine\"].mean(),inplace = True)\n",
    "dataset[\"po2\"].fillna(dataset[\"po2\"].mean(),inplace = True)\n",
    "dataset[\"fio2\"].fillna(dataset[\"fio2\"].mean(),inplace = True)\n",
    "dataset[\"pco2\"].fillna(dataset[\"pco2\"].mean(),inplace = True)\n",
    "dataset[\"bp_min\"].fillna(dataset[\"bp_min\"].mean(),inplace = True)\n",
    "dataset[\"bp_max\"].fillna(dataset[\"bp_max\"].mean(),inplace = True)\n",
    "dataset[\"pain\"].fillna(dataset[\"pain\"].mean(),inplace = True)\n",
    "dataset[\"k\"].fillna(dataset[\"k\"].mean(),inplace = True)\n",
    "dataset[\"hr_min\"].fillna(dataset[\"hr_min\"].mean(),inplace = True)\n",
    "dataset[\"hr_max\"].fillna(dataset['hr_max'].mean(),inplace = True)\n",
    "dataset[\"gcs_min\"].fillna(dataset[\"gcs_min\"].mean(),inplace = True)\n",
    "dataset[\"gcs_max\"].fillna(dataset[\"gcs_max\"].mean(),inplace = True)\n",
    "dataset[\"bun\"].fillna(dataset[\"bun\"].mean(),inplace = True)\n",
    "dataset[\"hco3\"].fillna(dataset[\"hco3\"].mean(),inplace = True)\n",
    "dataset[\"airway\"].fillna(dataset[\"airway\"].mean(),inplace = True)\n",
    "dataset[\"resp_min\"].fillna(dataset[\"resp_min\"].mean(),inplace = True)\n",
    "dataset[\"resp_max\"].fillna(dataset[\"resp_max\"].mean(),inplace = True)\n",
    "dataset[\"haemoglobin\"].fillna(dataset[\"haemoglobin\"].mean(),inplace = True)\n",
    "dataset[\"spo2_min\"].fillna(dataset[\"spo2_min\"].mean(),inplace = True)\n",
    "dataset[\"spo2_max\"].fillna(dataset[\"spo2_max\"].mean(),inplace = True)\n",
    "dataset[\"temp_min\"].fillna(dataset[\"temp_min\"].mean(),inplace = True)\n",
    "dataset[\"temp_max\"].fillna(dataset[\"temp_max\"].mean(),inplace = True)\n",
    "dataset[\"na\"].fillna(dataset[\"na\"].mean(),inplace = True)\n"
   ]
  },
  {
   "cell_type": "code",
   "execution_count": 103,
   "metadata": {},
   "outputs": [],
   "source": [
    "from sklearn.pipeline import Pipeline\n",
    "from sklearn.preprocessing import PolynomialFeatures"
   ]
  },
  {
   "cell_type": "code",
   "execution_count": 104,
   "metadata": {},
   "outputs": [],
   "source": [
    "def PolynomialLogisticRegression():\n",
    "    return Pipeline([\n",
    "        ('std_scaler', StandardScaler()),\n",
    "        ('poly', PolynomialFeatures()),\n",
    "        ('log_reg', LogisticRegression(solver='liblinear'))\n",
    "    ])"
   ]
  },
  {
   "cell_type": "code",
   "execution_count": 105,
   "metadata": {},
   "outputs": [],
   "source": [
    "features = ['creatinine','po2','fio2','pco2','bp_min','bp_max','pain','k','hr_min','hr_max','gcs_min','gcs_max','bun','hco3','airway','resp_min','resp_max','haemoglobin','spo2_min','spo2_max','temp_min','temp_max','na']\n",
    "\n",
    "x = dataset[features]\n",
    "y= dataset['outcome']"
   ]
  },
  {
   "cell_type": "code",
   "execution_count": 106,
   "metadata": {},
   "outputs": [],
   "source": [
    "from sklearn.model_selection import train_test_split\n",
    "xtrain, xtest, ytrain, ytest = train_test_split(x, y, test_size = 0.2)"
   ]
  },
  {
   "cell_type": "code",
   "execution_count": 114,
   "metadata": {},
   "outputs": [
    {
     "data": {
      "text/plain": [
       "Pipeline(steps=[('std_scaler', StandardScaler()),\n",
       "                ('poly', PolynomialFeatures()),\n",
       "                ('log_reg', LogisticRegression(solver='liblinear'))])"
      ]
     },
     "execution_count": 114,
     "metadata": {},
     "output_type": "execute_result"
    }
   ],
   "source": [
    "classifier1 = PolynomialLogisticRegression()\n",
    "classifier1.poly__degree=1\n",
    "classifier1.fit(xtrain, ytrain)"
   ]
  },
  {
   "cell_type": "code",
   "execution_count": 118,
   "metadata": {},
   "outputs": [],
   "source": [
    "y_pred1 = classifier1.predict(xtest)"
   ]
  },
  {
   "cell_type": "code",
   "execution_count": 125,
   "metadata": {
    "scrolled": true
   },
   "outputs": [
    {
     "name": "stdout",
     "output_type": "stream",
     "text": [
      "Confusion Matrix: \n",
      " [[221 229]\n",
      " [171 171]]\n",
      "AUC Score: 0.783977\n"
     ]
    }
   ],
   "source": [
    "from sklearn.metrics import confusion_matrix\n",
    "cm = confusion_matrix(ytest, y_pred)\n",
    "\n",
    "print (\"Confusion Matrix: \\n\", cm)\n",
    "print( \"AUC Score: %f\" % metrics.roc_auc_score(ytest, y_pred1))"
   ]
  },
  {
   "cell_type": "code",
   "execution_count": 120,
   "metadata": {},
   "outputs": [
    {
     "name": "stdout",
     "output_type": "stream",
     "text": [
      "Accuracy :  0.494949494949495\n"
     ]
    }
   ],
   "source": [
    "from sklearn.metrics import accuracy_score\n",
    "print (\"Accuracy : \", accuracy_score(ytest, y_pred))"
   ]
  },
  {
   "cell_type": "code",
   "execution_count": 121,
   "metadata": {},
   "outputs": [
    {
     "data": {
      "text/plain": [
       "dict_keys(['memory', 'steps', 'verbose', 'std_scaler', 'poly', 'log_reg', 'std_scaler__copy', 'std_scaler__with_mean', 'std_scaler__with_std', 'poly__degree', 'poly__include_bias', 'poly__interaction_only', 'poly__order', 'log_reg__C', 'log_reg__class_weight', 'log_reg__dual', 'log_reg__fit_intercept', 'log_reg__intercept_scaling', 'log_reg__l1_ratio', 'log_reg__max_iter', 'log_reg__multi_class', 'log_reg__n_jobs', 'log_reg__penalty', 'log_reg__random_state', 'log_reg__solver', 'log_reg__tol', 'log_reg__verbose', 'log_reg__warm_start'])"
      ]
     },
     "execution_count": 121,
     "metadata": {},
     "output_type": "execute_result"
    }
   ],
   "source": [
    "PolynomialLogisticRegression().get_params().keys()"
   ]
  },
  {
   "cell_type": "code",
   "execution_count": 112,
   "metadata": {},
   "outputs": [
    {
     "name": "stdout",
     "output_type": "stream",
     "text": [
      "Fitting 5 folds for each of 20 candidates, totalling 100 fits\n",
      "[CV] log_reg__C=100, log_reg__penalty=l1, poly__degree=1 .............\n",
      "[CV]  log_reg__C=100, log_reg__penalty=l1, poly__degree=1, total=   0.0s\n",
      "[CV] log_reg__C=100, log_reg__penalty=l1, poly__degree=1 .............\n",
      "[CV]  log_reg__C=100, log_reg__penalty=l1, poly__degree=1, total=   0.0s\n",
      "[CV] log_reg__C=100, log_reg__penalty=l1, poly__degree=1 .............\n",
      "[CV]  log_reg__C=100, log_reg__penalty=l1, poly__degree=1, total=   0.0s\n",
      "[CV] log_reg__C=100, log_reg__penalty=l1, poly__degree=1 .............\n",
      "[CV]  log_reg__C=100, log_reg__penalty=l1, poly__degree=1, total=   0.0s\n",
      "[CV] log_reg__C=100, log_reg__penalty=l1, poly__degree=1 .............\n",
      "[CV]  log_reg__C=100, log_reg__penalty=l1, poly__degree=1, total=   0.0s\n",
      "[CV] log_reg__C=100, log_reg__penalty=l1, poly__degree=2 .............\n"
     ]
    },
    {
     "name": "stderr",
     "output_type": "stream",
     "text": [
      "[Parallel(n_jobs=1)]: Using backend SequentialBackend with 1 concurrent workers.\n",
      "[Parallel(n_jobs=1)]: Done   1 out of   1 | elapsed:    0.0s remaining:    0.0s\n"
     ]
    },
    {
     "name": "stdout",
     "output_type": "stream",
     "text": [
      "[CV]  log_reg__C=100, log_reg__penalty=l1, poly__degree=2, total=  11.0s\n",
      "[CV] log_reg__C=100, log_reg__penalty=l1, poly__degree=2 .............\n",
      "[CV]  log_reg__C=100, log_reg__penalty=l1, poly__degree=2, total=   9.9s\n",
      "[CV] log_reg__C=100, log_reg__penalty=l1, poly__degree=2 .............\n",
      "[CV]  log_reg__C=100, log_reg__penalty=l1, poly__degree=2, total=  14.6s\n",
      "[CV] log_reg__C=100, log_reg__penalty=l1, poly__degree=2 .............\n",
      "[CV]  log_reg__C=100, log_reg__penalty=l1, poly__degree=2, total=  17.3s\n",
      "[CV] log_reg__C=100, log_reg__penalty=l1, poly__degree=2 .............\n",
      "[CV]  log_reg__C=100, log_reg__penalty=l1, poly__degree=2, total=  10.8s\n",
      "[CV] log_reg__C=100, log_reg__penalty=l2, poly__degree=1 .............\n",
      "[CV]  log_reg__C=100, log_reg__penalty=l2, poly__degree=1, total=   0.0s\n",
      "[CV] log_reg__C=100, log_reg__penalty=l2, poly__degree=1 .............\n",
      "[CV]  log_reg__C=100, log_reg__penalty=l2, poly__degree=1, total=   0.0s\n",
      "[CV] log_reg__C=100, log_reg__penalty=l2, poly__degree=1 .............\n",
      "[CV]  log_reg__C=100, log_reg__penalty=l2, poly__degree=1, total=   0.0s\n",
      "[CV] log_reg__C=100, log_reg__penalty=l2, poly__degree=1 .............\n",
      "[CV]  log_reg__C=100, log_reg__penalty=l2, poly__degree=1, total=   0.0s\n",
      "[CV] log_reg__C=100, log_reg__penalty=l2, poly__degree=1 .............\n",
      "[CV]  log_reg__C=100, log_reg__penalty=l2, poly__degree=1, total=   0.0s\n",
      "[CV] log_reg__C=100, log_reg__penalty=l2, poly__degree=2 .............\n",
      "[CV]  log_reg__C=100, log_reg__penalty=l2, poly__degree=2, total=   2.2s\n",
      "[CV] log_reg__C=100, log_reg__penalty=l2, poly__degree=2 .............\n",
      "[CV]  log_reg__C=100, log_reg__penalty=l2, poly__degree=2, total=   2.2s\n",
      "[CV] log_reg__C=100, log_reg__penalty=l2, poly__degree=2 .............\n",
      "[CV]  log_reg__C=100, log_reg__penalty=l2, poly__degree=2, total=   4.0s\n",
      "[CV] log_reg__C=100, log_reg__penalty=l2, poly__degree=2 .............\n",
      "[CV]  log_reg__C=100, log_reg__penalty=l2, poly__degree=2, total=   2.2s\n",
      "[CV] log_reg__C=100, log_reg__penalty=l2, poly__degree=2 .............\n",
      "[CV]  log_reg__C=100, log_reg__penalty=l2, poly__degree=2, total=   1.7s\n",
      "[CV] log_reg__C=10, log_reg__penalty=l1, poly__degree=1 ..............\n",
      "[CV]  log_reg__C=10, log_reg__penalty=l1, poly__degree=1, total=   0.0s\n",
      "[CV] log_reg__C=10, log_reg__penalty=l1, poly__degree=1 ..............\n",
      "[CV]  log_reg__C=10, log_reg__penalty=l1, poly__degree=1, total=   0.0s\n",
      "[CV] log_reg__C=10, log_reg__penalty=l1, poly__degree=1 ..............\n",
      "[CV]  log_reg__C=10, log_reg__penalty=l1, poly__degree=1, total=   0.0s\n",
      "[CV] log_reg__C=10, log_reg__penalty=l1, poly__degree=1 ..............\n",
      "[CV]  log_reg__C=10, log_reg__penalty=l1, poly__degree=1, total=   0.0s\n",
      "[CV] log_reg__C=10, log_reg__penalty=l1, poly__degree=1 ..............\n",
      "[CV]  log_reg__C=10, log_reg__penalty=l1, poly__degree=1, total=   0.0s\n",
      "[CV] log_reg__C=10, log_reg__penalty=l1, poly__degree=2 ..............\n",
      "[CV]  log_reg__C=10, log_reg__penalty=l1, poly__degree=2, total=   7.9s\n",
      "[CV] log_reg__C=10, log_reg__penalty=l1, poly__degree=2 ..............\n",
      "[CV]  log_reg__C=10, log_reg__penalty=l1, poly__degree=2, total=   7.4s\n",
      "[CV] log_reg__C=10, log_reg__penalty=l1, poly__degree=2 ..............\n",
      "[CV]  log_reg__C=10, log_reg__penalty=l1, poly__degree=2, total=  15.1s\n",
      "[CV] log_reg__C=10, log_reg__penalty=l1, poly__degree=2 ..............\n",
      "[CV]  log_reg__C=10, log_reg__penalty=l1, poly__degree=2, total=  13.1s\n",
      "[CV] log_reg__C=10, log_reg__penalty=l1, poly__degree=2 ..............\n",
      "[CV]  log_reg__C=10, log_reg__penalty=l1, poly__degree=2, total=   9.3s\n",
      "[CV] log_reg__C=10, log_reg__penalty=l2, poly__degree=1 ..............\n",
      "[CV]  log_reg__C=10, log_reg__penalty=l2, poly__degree=1, total=   0.0s\n",
      "[CV] log_reg__C=10, log_reg__penalty=l2, poly__degree=1 ..............\n",
      "[CV]  log_reg__C=10, log_reg__penalty=l2, poly__degree=1, total=   0.0s\n",
      "[CV] log_reg__C=10, log_reg__penalty=l2, poly__degree=1 ..............\n",
      "[CV]  log_reg__C=10, log_reg__penalty=l2, poly__degree=1, total=   0.0s\n",
      "[CV] log_reg__C=10, log_reg__penalty=l2, poly__degree=1 ..............\n",
      "[CV]  log_reg__C=10, log_reg__penalty=l2, poly__degree=1, total=   0.0s\n",
      "[CV] log_reg__C=10, log_reg__penalty=l2, poly__degree=1 ..............\n",
      "[CV]  log_reg__C=10, log_reg__penalty=l2, poly__degree=1, total=   0.0s\n",
      "[CV] log_reg__C=10, log_reg__penalty=l2, poly__degree=2 ..............\n",
      "[CV]  log_reg__C=10, log_reg__penalty=l2, poly__degree=2, total=   1.4s\n",
      "[CV] log_reg__C=10, log_reg__penalty=l2, poly__degree=2 ..............\n",
      "[CV]  log_reg__C=10, log_reg__penalty=l2, poly__degree=2, total=   1.5s\n",
      "[CV] log_reg__C=10, log_reg__penalty=l2, poly__degree=2 ..............\n",
      "[CV]  log_reg__C=10, log_reg__penalty=l2, poly__degree=2, total=   2.4s\n",
      "[CV] log_reg__C=10, log_reg__penalty=l2, poly__degree=2 ..............\n",
      "[CV]  log_reg__C=10, log_reg__penalty=l2, poly__degree=2, total=   1.3s\n",
      "[CV] log_reg__C=10, log_reg__penalty=l2, poly__degree=2 ..............\n",
      "[CV]  log_reg__C=10, log_reg__penalty=l2, poly__degree=2, total=   2.2s\n",
      "[CV] log_reg__C=1, log_reg__penalty=l1, poly__degree=1 ...............\n",
      "[CV]  log_reg__C=1, log_reg__penalty=l1, poly__degree=1, total=   0.0s\n",
      "[CV] log_reg__C=1, log_reg__penalty=l1, poly__degree=1 ...............\n",
      "[CV]  log_reg__C=1, log_reg__penalty=l1, poly__degree=1, total=   0.0s\n",
      "[CV] log_reg__C=1, log_reg__penalty=l1, poly__degree=1 ...............\n",
      "[CV]  log_reg__C=1, log_reg__penalty=l1, poly__degree=1, total=   0.0s\n",
      "[CV] log_reg__C=1, log_reg__penalty=l1, poly__degree=1 ...............\n",
      "[CV]  log_reg__C=1, log_reg__penalty=l1, poly__degree=1, total=   0.0s\n",
      "[CV] log_reg__C=1, log_reg__penalty=l1, poly__degree=1 ...............\n",
      "[CV]  log_reg__C=1, log_reg__penalty=l1, poly__degree=1, total=   0.0s\n",
      "[CV] log_reg__C=1, log_reg__penalty=l1, poly__degree=2 ...............\n",
      "[CV]  log_reg__C=1, log_reg__penalty=l1, poly__degree=2, total=   0.9s\n",
      "[CV] log_reg__C=1, log_reg__penalty=l1, poly__degree=2 ...............\n",
      "[CV]  log_reg__C=1, log_reg__penalty=l1, poly__degree=2, total=   0.7s\n",
      "[CV] log_reg__C=1, log_reg__penalty=l1, poly__degree=2 ...............\n",
      "[CV]  log_reg__C=1, log_reg__penalty=l1, poly__degree=2, total=   3.2s\n",
      "[CV] log_reg__C=1, log_reg__penalty=l1, poly__degree=2 ...............\n",
      "[CV]  log_reg__C=1, log_reg__penalty=l1, poly__degree=2, total=   1.0s\n",
      "[CV] log_reg__C=1, log_reg__penalty=l1, poly__degree=2 ...............\n",
      "[CV]  log_reg__C=1, log_reg__penalty=l1, poly__degree=2, total=   2.1s\n",
      "[CV] log_reg__C=1, log_reg__penalty=l2, poly__degree=1 ...............\n",
      "[CV]  log_reg__C=1, log_reg__penalty=l2, poly__degree=1, total=   0.0s\n",
      "[CV] log_reg__C=1, log_reg__penalty=l2, poly__degree=1 ...............\n",
      "[CV]  log_reg__C=1, log_reg__penalty=l2, poly__degree=1, total=   0.0s\n",
      "[CV] log_reg__C=1, log_reg__penalty=l2, poly__degree=1 ...............\n",
      "[CV]  log_reg__C=1, log_reg__penalty=l2, poly__degree=1, total=   0.0s\n",
      "[CV] log_reg__C=1, log_reg__penalty=l2, poly__degree=1 ...............\n",
      "[CV]  log_reg__C=1, log_reg__penalty=l2, poly__degree=1, total=   0.0s\n",
      "[CV] log_reg__C=1, log_reg__penalty=l2, poly__degree=1 ...............\n",
      "[CV]  log_reg__C=1, log_reg__penalty=l2, poly__degree=1, total=   0.0s\n",
      "[CV] log_reg__C=1, log_reg__penalty=l2, poly__degree=2 ...............\n",
      "[CV]  log_reg__C=1, log_reg__penalty=l2, poly__degree=2, total=   0.7s\n",
      "[CV] log_reg__C=1, log_reg__penalty=l2, poly__degree=2 ...............\n",
      "[CV]  log_reg__C=1, log_reg__penalty=l2, poly__degree=2, total=   0.7s\n",
      "[CV] log_reg__C=1, log_reg__penalty=l2, poly__degree=2 ...............\n",
      "[CV]  log_reg__C=1, log_reg__penalty=l2, poly__degree=2, total=   1.1s\n",
      "[CV] log_reg__C=1, log_reg__penalty=l2, poly__degree=2 ...............\n",
      "[CV]  log_reg__C=1, log_reg__penalty=l2, poly__degree=2, total=   0.7s\n",
      "[CV] log_reg__C=1, log_reg__penalty=l2, poly__degree=2 ...............\n",
      "[CV]  log_reg__C=1, log_reg__penalty=l2, poly__degree=2, total=   0.7s\n",
      "[CV] log_reg__C=0.1, log_reg__penalty=l1, poly__degree=1 .............\n",
      "[CV]  log_reg__C=0.1, log_reg__penalty=l1, poly__degree=1, total=   0.0s\n",
      "[CV] log_reg__C=0.1, log_reg__penalty=l1, poly__degree=1 .............\n",
      "[CV]  log_reg__C=0.1, log_reg__penalty=l1, poly__degree=1, total=   0.0s\n",
      "[CV] log_reg__C=0.1, log_reg__penalty=l1, poly__degree=1 .............\n",
      "[CV]  log_reg__C=0.1, log_reg__penalty=l1, poly__degree=1, total=   0.0s\n",
      "[CV] log_reg__C=0.1, log_reg__penalty=l1, poly__degree=1 .............\n",
      "[CV]  log_reg__C=0.1, log_reg__penalty=l1, poly__degree=1, total=   0.0s\n",
      "[CV] log_reg__C=0.1, log_reg__penalty=l1, poly__degree=1 .............\n",
      "[CV]  log_reg__C=0.1, log_reg__penalty=l1, poly__degree=1, total=   0.0s\n",
      "[CV] log_reg__C=0.1, log_reg__penalty=l1, poly__degree=2 .............\n"
     ]
    },
    {
     "name": "stdout",
     "output_type": "stream",
     "text": [
      "[CV]  log_reg__C=0.1, log_reg__penalty=l1, poly__degree=2, total=   0.2s\n",
      "[CV] log_reg__C=0.1, log_reg__penalty=l1, poly__degree=2 .............\n",
      "[CV]  log_reg__C=0.1, log_reg__penalty=l1, poly__degree=2, total=   0.1s\n",
      "[CV] log_reg__C=0.1, log_reg__penalty=l1, poly__degree=2 .............\n",
      "[CV]  log_reg__C=0.1, log_reg__penalty=l1, poly__degree=2, total=   0.2s\n",
      "[CV] log_reg__C=0.1, log_reg__penalty=l1, poly__degree=2 .............\n",
      "[CV]  log_reg__C=0.1, log_reg__penalty=l1, poly__degree=2, total=   0.2s\n",
      "[CV] log_reg__C=0.1, log_reg__penalty=l1, poly__degree=2 .............\n",
      "[CV]  log_reg__C=0.1, log_reg__penalty=l1, poly__degree=2, total=   0.2s\n",
      "[CV] log_reg__C=0.1, log_reg__penalty=l2, poly__degree=1 .............\n",
      "[CV]  log_reg__C=0.1, log_reg__penalty=l2, poly__degree=1, total=   0.0s\n",
      "[CV] log_reg__C=0.1, log_reg__penalty=l2, poly__degree=1 .............\n",
      "[CV]  log_reg__C=0.1, log_reg__penalty=l2, poly__degree=1, total=   0.0s\n",
      "[CV] log_reg__C=0.1, log_reg__penalty=l2, poly__degree=1 .............\n",
      "[CV]  log_reg__C=0.1, log_reg__penalty=l2, poly__degree=1, total=   0.0s\n",
      "[CV] log_reg__C=0.1, log_reg__penalty=l2, poly__degree=1 .............\n",
      "[CV]  log_reg__C=0.1, log_reg__penalty=l2, poly__degree=1, total=   0.0s\n",
      "[CV] log_reg__C=0.1, log_reg__penalty=l2, poly__degree=1 .............\n",
      "[CV]  log_reg__C=0.1, log_reg__penalty=l2, poly__degree=1, total=   0.0s\n",
      "[CV] log_reg__C=0.1, log_reg__penalty=l2, poly__degree=2 .............\n",
      "[CV]  log_reg__C=0.1, log_reg__penalty=l2, poly__degree=2, total=   0.4s\n",
      "[CV] log_reg__C=0.1, log_reg__penalty=l2, poly__degree=2 .............\n",
      "[CV]  log_reg__C=0.1, log_reg__penalty=l2, poly__degree=2, total=   0.4s\n",
      "[CV] log_reg__C=0.1, log_reg__penalty=l2, poly__degree=2 .............\n",
      "[CV]  log_reg__C=0.1, log_reg__penalty=l2, poly__degree=2, total=   0.4s\n",
      "[CV] log_reg__C=0.1, log_reg__penalty=l2, poly__degree=2 .............\n",
      "[CV]  log_reg__C=0.1, log_reg__penalty=l2, poly__degree=2, total=   0.4s\n",
      "[CV] log_reg__C=0.1, log_reg__penalty=l2, poly__degree=2 .............\n",
      "[CV]  log_reg__C=0.1, log_reg__penalty=l2, poly__degree=2, total=   0.4s\n",
      "[CV] log_reg__C=0.01, log_reg__penalty=l1, poly__degree=1 ............\n",
      "[CV]  log_reg__C=0.01, log_reg__penalty=l1, poly__degree=1, total=   0.0s\n",
      "[CV] log_reg__C=0.01, log_reg__penalty=l1, poly__degree=1 ............\n",
      "[CV]  log_reg__C=0.01, log_reg__penalty=l1, poly__degree=1, total=   0.0s\n",
      "[CV] log_reg__C=0.01, log_reg__penalty=l1, poly__degree=1 ............\n",
      "[CV]  log_reg__C=0.01, log_reg__penalty=l1, poly__degree=1, total=   0.0s\n",
      "[CV] log_reg__C=0.01, log_reg__penalty=l1, poly__degree=1 ............\n",
      "[CV]  log_reg__C=0.01, log_reg__penalty=l1, poly__degree=1, total=   0.0s\n",
      "[CV] log_reg__C=0.01, log_reg__penalty=l1, poly__degree=1 ............\n",
      "[CV]  log_reg__C=0.01, log_reg__penalty=l1, poly__degree=1, total=   0.0s\n",
      "[CV] log_reg__C=0.01, log_reg__penalty=l1, poly__degree=2 ............\n",
      "[CV]  log_reg__C=0.01, log_reg__penalty=l1, poly__degree=2, total=   0.1s\n",
      "[CV] log_reg__C=0.01, log_reg__penalty=l1, poly__degree=2 ............\n",
      "[CV]  log_reg__C=0.01, log_reg__penalty=l1, poly__degree=2, total=   0.1s\n",
      "[CV] log_reg__C=0.01, log_reg__penalty=l1, poly__degree=2 ............\n",
      "[CV]  log_reg__C=0.01, log_reg__penalty=l1, poly__degree=2, total=   0.1s\n",
      "[CV] log_reg__C=0.01, log_reg__penalty=l1, poly__degree=2 ............\n",
      "[CV]  log_reg__C=0.01, log_reg__penalty=l1, poly__degree=2, total=   0.0s\n",
      "[CV] log_reg__C=0.01, log_reg__penalty=l1, poly__degree=2 ............\n",
      "[CV]  log_reg__C=0.01, log_reg__penalty=l1, poly__degree=2, total=   0.1s\n",
      "[CV] log_reg__C=0.01, log_reg__penalty=l2, poly__degree=1 ............\n",
      "[CV]  log_reg__C=0.01, log_reg__penalty=l2, poly__degree=1, total=   0.0s\n",
      "[CV] log_reg__C=0.01, log_reg__penalty=l2, poly__degree=1 ............\n",
      "[CV]  log_reg__C=0.01, log_reg__penalty=l2, poly__degree=1, total=   0.0s\n",
      "[CV] log_reg__C=0.01, log_reg__penalty=l2, poly__degree=1 ............\n",
      "[CV]  log_reg__C=0.01, log_reg__penalty=l2, poly__degree=1, total=   0.0s\n",
      "[CV] log_reg__C=0.01, log_reg__penalty=l2, poly__degree=1 ............\n",
      "[CV]  log_reg__C=0.01, log_reg__penalty=l2, poly__degree=1, total=   0.0s\n",
      "[CV] log_reg__C=0.01, log_reg__penalty=l2, poly__degree=1 ............\n",
      "[CV]  log_reg__C=0.01, log_reg__penalty=l2, poly__degree=1, total=   0.0s\n",
      "[CV] log_reg__C=0.01, log_reg__penalty=l2, poly__degree=2 ............\n",
      "[CV]  log_reg__C=0.01, log_reg__penalty=l2, poly__degree=2, total=   0.2s\n",
      "[CV] log_reg__C=0.01, log_reg__penalty=l2, poly__degree=2 ............\n",
      "[CV]  log_reg__C=0.01, log_reg__penalty=l2, poly__degree=2, total=   0.2s\n",
      "[CV] log_reg__C=0.01, log_reg__penalty=l2, poly__degree=2 ............\n",
      "[CV]  log_reg__C=0.01, log_reg__penalty=l2, poly__degree=2, total=   0.2s\n",
      "[CV] log_reg__C=0.01, log_reg__penalty=l2, poly__degree=2 ............\n",
      "[CV]  log_reg__C=0.01, log_reg__penalty=l2, poly__degree=2, total=   0.2s\n",
      "[CV] log_reg__C=0.01, log_reg__penalty=l2, poly__degree=2 ............\n",
      "[CV]  log_reg__C=0.01, log_reg__penalty=l2, poly__degree=2, total=   0.2s\n",
      "0.7885048334163379\n",
      "{'log_reg__C': 100, 'log_reg__penalty': 'l1', 'poly__degree': 1}\n"
     ]
    },
    {
     "name": "stderr",
     "output_type": "stream",
     "text": [
      "[Parallel(n_jobs=1)]: Done 100 out of 100 | elapsed:  2.6min finished\n"
     ]
    }
   ],
   "source": [
    "from sklearn.model_selection import GridSearchCV\n",
    "grid_param1={'log_reg__penalty':['l1','l2'],'log_reg__C':[100,10,1,0.1,0.01],'poly__degree':[1,2]}\n",
    "classifier2=PolynomialLogisticRegression()\n",
    "grid_clf1=GridSearchCV(classifier2,grid_param1,cv=5,verbose=2)\n",
    "grid_clf1.fit(x,y)\n",
    "print(grid_clf1.best_score_)\n",
    "print(grid_clf1.best_params_)"
   ]
  },
  {
   "cell_type": "code",
   "execution_count": 122,
   "metadata": {},
   "outputs": [
    {
     "name": "stdout",
     "output_type": "stream",
     "text": [
      "Confusion Matrix: \n",
      " [[349 101]\n",
      " [ 71 271]]\n",
      "Accuracy: 0.7828282828282829\n"
     ]
    }
   ],
   "source": [
    "classifier3=PolynomialLogisticRegression()\n",
    "classifier3.poly__degree=1\n",
    "classifier3.log_reg__C=100\n",
    "classifier3.log_reg__penalty='l1'\n",
    "classifier3.fit(xtrain,ytrain)\n",
    "y_pred3=classifier3.predict(xtest)\n",
    "cm3 = confusion_matrix(ytest, y_pred3)\n",
    "print (\"Confusion Matrix: \\n\", cm3)\n",
    "print('Accuracy:',accuracy_score(ytest,y_pred3))"
   ]
  },
  {
   "cell_type": "code",
   "execution_count": 126,
   "metadata": {},
   "outputs": [
    {
     "name": "stdout",
     "output_type": "stream",
     "text": [
      "AUC Score: 0.783977\n"
     ]
    }
   ],
   "source": [
    "print( \"AUC Score: %f\" % metrics.roc_auc_score(ytest, y_pred3))"
   ]
  },
  {
   "cell_type": "code",
   "execution_count": null,
   "metadata": {},
   "outputs": [],
   "source": []
  }
 ],
 "metadata": {
  "kernelspec": {
   "display_name": "Python 3",
   "language": "python",
   "name": "python3"
  },
  "language_info": {
   "codemirror_mode": {
    "name": "ipython",
    "version": 3
   },
   "file_extension": ".py",
   "mimetype": "text/x-python",
   "name": "python",
   "nbconvert_exporter": "python",
   "pygments_lexer": "ipython3",
   "version": "3.7.3"
  }
 },
 "nbformat": 4,
 "nbformat_minor": 2
}
