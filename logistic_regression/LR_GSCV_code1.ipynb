{
 "cells": [
  {
   "cell_type": "code",
   "execution_count": 215,
   "metadata": {},
   "outputs": [],
   "source": [
    "import pandas as pd\n",
    "import numpy as np\n",
    "from sklearn import metrics\n",
    "from sklearn.linear_model import LogisticRegression\n",
    "import matplotlib.pyplot as plt\n",
    "from sklearn.preprocessing import StandardScaler\n",
    "\n",
    "dataset = pd.read_csv(\"dataset.csv\")"
   ]
  },
  {
   "cell_type": "code",
   "execution_count": 216,
   "metadata": {},
   "outputs": [],
   "source": [
    "dataset[\"creatinine\"].fillna(dataset[\"creatinine\"].mean(),inplace = True)\n",
    "dataset[\"po2\"].fillna(dataset[\"po2\"].mean(),inplace = True)\n",
    "dataset[\"fio2\"].fillna(dataset[\"fio2\"].mean(),inplace = True)\n",
    "dataset[\"pco2\"].fillna(dataset[\"pco2\"].mean(),inplace = True)\n",
    "dataset[\"bp_min\"].fillna(dataset[\"bp_min\"].mean(),inplace = True)\n",
    "dataset[\"bp_max\"].fillna(dataset[\"bp_max\"].mean(),inplace = True)\n",
    "dataset[\"pain\"].fillna(dataset[\"pain\"].mean(),inplace = True)\n",
    "dataset[\"k\"].fillna(dataset[\"k\"].mean(),inplace = True)\n",
    "dataset[\"hr_min\"].fillna(dataset[\"hr_min\"].mean(),inplace = True)\n",
    "dataset[\"hr_max\"].fillna(dataset['hr_max'].mean(),inplace = True)\n",
    "dataset[\"gcs_min\"].fillna(dataset[\"gcs_min\"].mean(),inplace = True)\n",
    "dataset[\"gcs_max\"].fillna(dataset[\"gcs_max\"].mean(),inplace = True)\n",
    "dataset[\"bun\"].fillna(dataset[\"bun\"].mean(),inplace = True)\n",
    "dataset[\"hco3\"].fillna(dataset[\"hco3\"].mean(),inplace = True)\n",
    "dataset[\"airway\"].fillna(dataset[\"airway\"].mean(),inplace = True)\n",
    "dataset[\"resp_min\"].fillna(dataset[\"resp_min\"].mean(),inplace = True)\n",
    "dataset[\"resp_max\"].fillna(dataset[\"resp_max\"].mean(),inplace = True)\n",
    "dataset[\"haemoglobin\"].fillna(dataset[\"haemoglobin\"].mean(),inplace = True)\n",
    "dataset[\"spo2_min\"].fillna(dataset[\"spo2_min\"].mean(),inplace = True)\n",
    "dataset[\"spo2_max\"].fillna(dataset[\"spo2_max\"].mean(),inplace = True)\n",
    "dataset[\"temp_min\"].fillna(dataset[\"temp_min\"].mean(),inplace = True)\n",
    "dataset[\"temp_max\"].fillna(dataset[\"temp_max\"].mean(),inplace = True)\n",
    "dataset[\"na\"].fillna(dataset[\"na\"].mean(),inplace = True)\n"
   ]
  },
  {
   "cell_type": "code",
   "execution_count": 217,
   "metadata": {},
   "outputs": [],
   "source": [
    "from sklearn.pipeline import Pipeline\n",
    "from sklearn.preprocessing import PolynomialFeatures"
   ]
  },
  {
   "cell_type": "code",
   "execution_count": 218,
   "metadata": {},
   "outputs": [],
   "source": [
    "def PolynomialLogisticRegression():\n",
    "    return Pipeline([\n",
    "        ('std_scaler', StandardScaler()),\n",
    "        ('poly', PolynomialFeatures()),\n",
    "        ('log_reg', LogisticRegression(solver='liblinear',random_state=0))\n",
    "    ])"
   ]
  },
  {
   "cell_type": "code",
   "execution_count": 219,
   "metadata": {},
   "outputs": [],
   "source": [
    "features = ['creatinine','po2','fio2','pco2','bp_min','bp_max','pain','k','hr_min','hr_max','gcs_min','gcs_max','bun','hco3','airway','resp_min','resp_max','haemoglobin','spo2_min','spo2_max','temp_min','temp_max','na']\n",
    "\n",
    "x = dataset[features]\n",
    "y= dataset['outcome']"
   ]
  },
  {
   "cell_type": "code",
   "execution_count": 220,
   "metadata": {},
   "outputs": [],
   "source": [
    "from sklearn.model_selection import train_test_split\n",
    "xtrain, xtest, ytrain, ytest = train_test_split(x, y, test_size = 0.2)"
   ]
  },
  {
   "cell_type": "code",
   "execution_count": 221,
   "metadata": {},
   "outputs": [
    {
     "data": {
      "text/plain": [
       "Pipeline(steps=[('std_scaler', StandardScaler()),\n",
       "                ('poly', PolynomialFeatures()),\n",
       "                ('log_reg',\n",
       "                 LogisticRegression(random_state=0, solver='liblinear'))])"
      ]
     },
     "execution_count": 221,
     "metadata": {},
     "output_type": "execute_result"
    }
   ],
   "source": [
    "classifier1 = PolynomialLogisticRegression()\n",
    "classifier1.poly__degree=1\n",
    "classifier1.fit(xtrain, ytrain)"
   ]
  },
  {
   "cell_type": "code",
   "execution_count": 222,
   "metadata": {},
   "outputs": [],
   "source": [
    "y_pred1 = classifier1.predict(xtest)"
   ]
  },
  {
   "cell_type": "code",
   "execution_count": 223,
   "metadata": {
    "scrolled": true
   },
   "outputs": [
    {
     "name": "stdout",
     "output_type": "stream",
     "text": [
      "Confusion Matrix: \n",
      " [[312  95]\n",
      " [ 93 292]]\n"
     ]
    }
   ],
   "source": [
    "from sklearn.metrics import confusion_matrix\n",
    "cm = confusion_matrix(ytest, y_pred1)\n",
    "\n",
    "print (\"Confusion Matrix: \\n\", cm)\n"
   ]
  },
  {
   "cell_type": "code",
   "execution_count": 224,
   "metadata": {},
   "outputs": [
    {
     "name": "stdout",
     "output_type": "stream",
     "text": [
      "Accuracy :  0.7626262626262627\n"
     ]
    }
   ],
   "source": [
    "from sklearn.metrics import accuracy_score\n",
    "print (\"Accuracy : \", accuracy_score(ytest, y_pred1))"
   ]
  },
  {
   "cell_type": "code",
   "execution_count": 225,
   "metadata": {},
   "outputs": [
    {
     "data": {
      "image/png": "[encoded data removed]",
      "text/plain": [
       "<Figure size 432x288 with 1 Axes>"
      ]
     },
     "metadata": {
      "needs_background": "light"
     },
     "output_type": "display_data"
    }
   ],
   "source": [
    "from sklearn.metrics import roc_auc_score,roc_curve\n",
    "fpr, tpr, threshold = metrics.roc_curve(ytest, classifier1.predict_proba(xtest)[:,1])\n",
    "roc_auc = metrics.auc(fpr, tpr)\n",
    "\n",
    "plt.title('Classifier1')\n",
    "plt.plot(fpr, tpr, 'b', label = 'AUC = %0.2f' % roc_auc)\n",
    "plt.legend(loc = 'lower right')\n",
    "plt.plot([0, 1], [0, 1],'r--')\n",
    "plt.xlim([0, 1])\n",
    "plt.ylim([0, 1])\n",
    "plt.ylabel('True Positive Rate')\n",
    "plt.xlabel('False Positive Rate')\n",
    "plt.show()"
   ]
  },
  {
   "cell_type": "code",
   "execution_count": 226,
   "metadata": {},
   "outputs": [
    {
     "data": {
      "text/plain": [
       "dict_keys(['memory', 'steps', 'verbose', 'std_scaler', 'poly', 'log_reg', 'std_scaler__copy', 'std_scaler__with_mean', 'std_scaler__with_std', 'poly__degree', 'poly__include_bias', 'poly__interaction_only', 'poly__order', 'log_reg__C', 'log_reg__class_weight', 'log_reg__dual', 'log_reg__fit_intercept', 'log_reg__intercept_scaling', 'log_reg__l1_ratio', 'log_reg__max_iter', 'log_reg__multi_class', 'log_reg__n_jobs', 'log_reg__penalty', 'log_reg__random_state', 'log_reg__solver', 'log_reg__tol', 'log_reg__verbose', 'log_reg__warm_start'])"
      ]
     },
     "execution_count": 226,
     "metadata": {},
     "output_type": "execute_result"
    }
   ],
   "source": [
    "PolynomialLogisticRegression().get_params().keys()"
   ]
  },
  {
   "cell_type": "code",
   "execution_count": 227,
   "metadata": {},
   "outputs": [
    {
     "name": "stdout",
     "output_type": "stream",
     "text": [
      "Fitting 5 folds for each of 20 candidates, totalling 100 fits\n",
      "[CV] log_reg__C=100, log_reg__penalty=l1, poly__degree=1 .............\n",
      "[CV]  log_reg__C=100, log_reg__penalty=l1, poly__degree=1, total=   0.0s\n",
      "[CV] log_reg__C=100, log_reg__penalty=l1, poly__degree=1 .............\n",
      "[CV]  log_reg__C=100, log_reg__penalty=l1, poly__degree=1, total=   0.0s\n",
      "[CV] log_reg__C=100, log_reg__penalty=l1, poly__degree=1 .............\n",
      "[CV]  log_reg__C=100, log_reg__penalty=l1, poly__degree=1, total=   0.0s\n",
      "[CV] log_reg__C=100, log_reg__penalty=l1, poly__degree=1 .............\n",
      "[CV]  log_reg__C=100, log_reg__penalty=l1, poly__degree=1, total=   0.0s\n",
      "[CV] log_reg__C=100, log_reg__penalty=l1, poly__degree=1 .............\n",
      "[CV]  log_reg__C=100, log_reg__penalty=l1, poly__degree=1, total=   0.0s\n",
      "[CV] log_reg__C=100, log_reg__penalty=l1, poly__degree=2 .............\n"
     ]
    },
    {
     "name": "stderr",
     "output_type": "stream",
     "text": [
      "[Parallel(n_jobs=1)]: Using backend SequentialBackend with 1 concurrent workers.\n",
      "[Parallel(n_jobs=1)]: Done   1 out of   1 | elapsed:    0.0s remaining:    0.0s\n"
     ]
    },
    {
     "name": "stdout",
     "output_type": "stream",
     "text": [
      "[CV]  log_reg__C=100, log_reg__penalty=l1, poly__degree=2, total=   8.3s\n",
      "[CV] log_reg__C=100, log_reg__penalty=l1, poly__degree=2 .............\n",
      "[CV]  log_reg__C=100, log_reg__penalty=l1, poly__degree=2, total=  12.2s\n",
      "[CV] log_reg__C=100, log_reg__penalty=l1, poly__degree=2 .............\n",
      "[CV]  log_reg__C=100, log_reg__penalty=l1, poly__degree=2, total=  13.7s\n",
      "[CV] log_reg__C=100, log_reg__penalty=l1, poly__degree=2 .............\n",
      "[CV]  log_reg__C=100, log_reg__penalty=l1, poly__degree=2, total=  17.3s\n",
      "[CV] log_reg__C=100, log_reg__penalty=l1, poly__degree=2 .............\n",
      "[CV]  log_reg__C=100, log_reg__penalty=l1, poly__degree=2, total=  11.3s\n",
      "[CV] log_reg__C=100, log_reg__penalty=l2, poly__degree=1 .............\n",
      "[CV]  log_reg__C=100, log_reg__penalty=l2, poly__degree=1, total=   0.0s\n",
      "[CV] log_reg__C=100, log_reg__penalty=l2, poly__degree=1 .............\n",
      "[CV]  log_reg__C=100, log_reg__penalty=l2, poly__degree=1, total=   0.0s\n",
      "[CV] log_reg__C=100, log_reg__penalty=l2, poly__degree=1 .............\n",
      "[CV]  log_reg__C=100, log_reg__penalty=l2, poly__degree=1, total=   0.0s\n",
      "[CV] log_reg__C=100, log_reg__penalty=l2, poly__degree=1 .............\n",
      "[CV]  log_reg__C=100, log_reg__penalty=l2, poly__degree=1, total=   0.0s\n",
      "[CV] log_reg__C=100, log_reg__penalty=l2, poly__degree=1 .............\n",
      "[CV]  log_reg__C=100, log_reg__penalty=l2, poly__degree=1, total=   0.0s\n",
      "[CV] log_reg__C=100, log_reg__penalty=l2, poly__degree=2 .............\n",
      "[CV]  log_reg__C=100, log_reg__penalty=l2, poly__degree=2, total=   2.0s\n",
      "[CV] log_reg__C=100, log_reg__penalty=l2, poly__degree=2 .............\n",
      "[CV]  log_reg__C=100, log_reg__penalty=l2, poly__degree=2, total=   2.0s\n",
      "[CV] log_reg__C=100, log_reg__penalty=l2, poly__degree=2 .............\n",
      "[CV]  log_reg__C=100, log_reg__penalty=l2, poly__degree=2, total=   4.1s\n",
      "[CV] log_reg__C=100, log_reg__penalty=l2, poly__degree=2 .............\n",
      "[CV]  log_reg__C=100, log_reg__penalty=l2, poly__degree=2, total=   2.2s\n",
      "[CV] log_reg__C=100, log_reg__penalty=l2, poly__degree=2 .............\n",
      "[CV]  log_reg__C=100, log_reg__penalty=l2, poly__degree=2, total=   1.8s\n",
      "[CV] log_reg__C=10, log_reg__penalty=l1, poly__degree=1 ..............\n",
      "[CV]  log_reg__C=10, log_reg__penalty=l1, poly__degree=1, total=   0.0s\n",
      "[CV] log_reg__C=10, log_reg__penalty=l1, poly__degree=1 ..............\n",
      "[CV]  log_reg__C=10, log_reg__penalty=l1, poly__degree=1, total=   0.0s\n",
      "[CV] log_reg__C=10, log_reg__penalty=l1, poly__degree=1 ..............\n",
      "[CV]  log_reg__C=10, log_reg__penalty=l1, poly__degree=1, total=   0.0s\n",
      "[CV] log_reg__C=10, log_reg__penalty=l1, poly__degree=1 ..............\n",
      "[CV]  log_reg__C=10, log_reg__penalty=l1, poly__degree=1, total=   0.0s\n",
      "[CV] log_reg__C=10, log_reg__penalty=l1, poly__degree=1 ..............\n",
      "[CV]  log_reg__C=10, log_reg__penalty=l1, poly__degree=1, total=   0.0s\n",
      "[CV] log_reg__C=10, log_reg__penalty=l1, poly__degree=2 ..............\n",
      "[CV]  log_reg__C=10, log_reg__penalty=l1, poly__degree=2, total=  10.0s\n",
      "[CV] log_reg__C=10, log_reg__penalty=l1, poly__degree=2 ..............\n",
      "[CV]  log_reg__C=10, log_reg__penalty=l1, poly__degree=2, total=   7.0s\n",
      "[CV] log_reg__C=10, log_reg__penalty=l1, poly__degree=2 ..............\n",
      "[CV]  log_reg__C=10, log_reg__penalty=l1, poly__degree=2, total=  13.3s\n",
      "[CV] log_reg__C=10, log_reg__penalty=l1, poly__degree=2 ..............\n",
      "[CV]  log_reg__C=10, log_reg__penalty=l1, poly__degree=2, total=  10.4s\n",
      "[CV] log_reg__C=10, log_reg__penalty=l1, poly__degree=2 ..............\n",
      "[CV]  log_reg__C=10, log_reg__penalty=l1, poly__degree=2, total=   8.8s\n",
      "[CV] log_reg__C=10, log_reg__penalty=l2, poly__degree=1 ..............\n",
      "[CV]  log_reg__C=10, log_reg__penalty=l2, poly__degree=1, total=   0.0s\n",
      "[CV] log_reg__C=10, log_reg__penalty=l2, poly__degree=1 ..............\n",
      "[CV]  log_reg__C=10, log_reg__penalty=l2, poly__degree=1, total=   0.0s\n",
      "[CV] log_reg__C=10, log_reg__penalty=l2, poly__degree=1 ..............\n",
      "[CV]  log_reg__C=10, log_reg__penalty=l2, poly__degree=1, total=   0.0s\n",
      "[CV] log_reg__C=10, log_reg__penalty=l2, poly__degree=1 ..............\n",
      "[CV]  log_reg__C=10, log_reg__penalty=l2, poly__degree=1, total=   0.0s\n",
      "[CV] log_reg__C=10, log_reg__penalty=l2, poly__degree=1 ..............\n",
      "[CV]  log_reg__C=10, log_reg__penalty=l2, poly__degree=1, total=   0.0s\n",
      "[CV] log_reg__C=10, log_reg__penalty=l2, poly__degree=2 ..............\n",
      "[CV]  log_reg__C=10, log_reg__penalty=l2, poly__degree=2, total=   1.4s\n",
      "[CV] log_reg__C=10, log_reg__penalty=l2, poly__degree=2 ..............\n",
      "[CV]  log_reg__C=10, log_reg__penalty=l2, poly__degree=2, total=   1.4s\n",
      "[CV] log_reg__C=10, log_reg__penalty=l2, poly__degree=2 ..............\n",
      "[CV]  log_reg__C=10, log_reg__penalty=l2, poly__degree=2, total=   2.5s\n",
      "[CV] log_reg__C=10, log_reg__penalty=l2, poly__degree=2 ..............\n",
      "[CV]  log_reg__C=10, log_reg__penalty=l2, poly__degree=2, total=   1.4s\n",
      "[CV] log_reg__C=10, log_reg__penalty=l2, poly__degree=2 ..............\n",
      "[CV]  log_reg__C=10, log_reg__penalty=l2, poly__degree=2, total=   2.2s\n",
      "[CV] log_reg__C=1, log_reg__penalty=l1, poly__degree=1 ...............\n",
      "[CV]  log_reg__C=1, log_reg__penalty=l1, poly__degree=1, total=   0.0s\n",
      "[CV] log_reg__C=1, log_reg__penalty=l1, poly__degree=1 ...............\n",
      "[CV]  log_reg__C=1, log_reg__penalty=l1, poly__degree=1, total=   0.0s\n",
      "[CV] log_reg__C=1, log_reg__penalty=l1, poly__degree=1 ...............\n",
      "[CV]  log_reg__C=1, log_reg__penalty=l1, poly__degree=1, total=   0.0s\n",
      "[CV] log_reg__C=1, log_reg__penalty=l1, poly__degree=1 ...............\n",
      "[CV]  log_reg__C=1, log_reg__penalty=l1, poly__degree=1, total=   0.0s\n",
      "[CV] log_reg__C=1, log_reg__penalty=l1, poly__degree=1 ...............\n",
      "[CV]  log_reg__C=1, log_reg__penalty=l1, poly__degree=1, total=   0.0s\n",
      "[CV] log_reg__C=1, log_reg__penalty=l1, poly__degree=2 ...............\n",
      "[CV]  log_reg__C=1, log_reg__penalty=l1, poly__degree=2, total=   1.0s\n",
      "[CV] log_reg__C=1, log_reg__penalty=l1, poly__degree=2 ...............\n",
      "[CV]  log_reg__C=1, log_reg__penalty=l1, poly__degree=2, total=   1.1s\n",
      "[CV] log_reg__C=1, log_reg__penalty=l1, poly__degree=2 ...............\n",
      "[CV]  log_reg__C=1, log_reg__penalty=l1, poly__degree=2, total=   3.0s\n",
      "[CV] log_reg__C=1, log_reg__penalty=l1, poly__degree=2 ...............\n",
      "[CV]  log_reg__C=1, log_reg__penalty=l1, poly__degree=2, total=   1.1s\n",
      "[CV] log_reg__C=1, log_reg__penalty=l1, poly__degree=2 ...............\n",
      "[CV]  log_reg__C=1, log_reg__penalty=l1, poly__degree=2, total=   1.9s\n",
      "[CV] log_reg__C=1, log_reg__penalty=l2, poly__degree=1 ...............\n",
      "[CV]  log_reg__C=1, log_reg__penalty=l2, poly__degree=1, total=   0.0s\n",
      "[CV] log_reg__C=1, log_reg__penalty=l2, poly__degree=1 ...............\n",
      "[CV]  log_reg__C=1, log_reg__penalty=l2, poly__degree=1, total=   0.0s\n",
      "[CV] log_reg__C=1, log_reg__penalty=l2, poly__degree=1 ...............\n",
      "[CV]  log_reg__C=1, log_reg__penalty=l2, poly__degree=1, total=   0.0s\n",
      "[CV] log_reg__C=1, log_reg__penalty=l2, poly__degree=1 ...............\n",
      "[CV]  log_reg__C=1, log_reg__penalty=l2, poly__degree=1, total=   0.0s\n",
      "[CV] log_reg__C=1, log_reg__penalty=l2, poly__degree=1 ...............\n",
      "[CV]  log_reg__C=1, log_reg__penalty=l2, poly__degree=1, total=   0.0s\n",
      "[CV] log_reg__C=1, log_reg__penalty=l2, poly__degree=2 ...............\n",
      "[CV]  log_reg__C=1, log_reg__penalty=l2, poly__degree=2, total=   0.7s\n",
      "[CV] log_reg__C=1, log_reg__penalty=l2, poly__degree=2 ...............\n",
      "[CV]  log_reg__C=1, log_reg__penalty=l2, poly__degree=2, total=   0.8s\n",
      "[CV] log_reg__C=1, log_reg__penalty=l2, poly__degree=2 ...............\n",
      "[CV]  log_reg__C=1, log_reg__penalty=l2, poly__degree=2, total=   1.0s\n",
      "[CV] log_reg__C=1, log_reg__penalty=l2, poly__degree=2 ...............\n",
      "[CV]  log_reg__C=1, log_reg__penalty=l2, poly__degree=2, total=   0.7s\n",
      "[CV] log_reg__C=1, log_reg__penalty=l2, poly__degree=2 ...............\n",
      "[CV]  log_reg__C=1, log_reg__penalty=l2, poly__degree=2, total=   0.6s\n",
      "[CV] log_reg__C=0.1, log_reg__penalty=l1, poly__degree=1 .............\n",
      "[CV]  log_reg__C=0.1, log_reg__penalty=l1, poly__degree=1, total=   0.0s\n",
      "[CV] log_reg__C=0.1, log_reg__penalty=l1, poly__degree=1 .............\n",
      "[CV]  log_reg__C=0.1, log_reg__penalty=l1, poly__degree=1, total=   0.0s\n",
      "[CV] log_reg__C=0.1, log_reg__penalty=l1, poly__degree=1 .............\n",
      "[CV]  log_reg__C=0.1, log_reg__penalty=l1, poly__degree=1, total=   0.0s\n",
      "[CV] log_reg__C=0.1, log_reg__penalty=l1, poly__degree=1 .............\n",
      "[CV]  log_reg__C=0.1, log_reg__penalty=l1, poly__degree=1, total=   0.0s\n",
      "[CV] log_reg__C=0.1, log_reg__penalty=l1, poly__degree=1 .............\n",
      "[CV]  log_reg__C=0.1, log_reg__penalty=l1, poly__degree=1, total=   0.0s\n",
      "[CV] log_reg__C=0.1, log_reg__penalty=l1, poly__degree=2 .............\n"
     ]
    },
    {
     "name": "stdout",
     "output_type": "stream",
     "text": [
      "[CV]  log_reg__C=0.1, log_reg__penalty=l1, poly__degree=2, total=   0.2s\n",
      "[CV] log_reg__C=0.1, log_reg__penalty=l1, poly__degree=2 .............\n",
      "[CV]  log_reg__C=0.1, log_reg__penalty=l1, poly__degree=2, total=   0.1s\n",
      "[CV] log_reg__C=0.1, log_reg__penalty=l1, poly__degree=2 .............\n",
      "[CV]  log_reg__C=0.1, log_reg__penalty=l1, poly__degree=2, total=   0.2s\n",
      "[CV] log_reg__C=0.1, log_reg__penalty=l1, poly__degree=2 .............\n",
      "[CV]  log_reg__C=0.1, log_reg__penalty=l1, poly__degree=2, total=   0.2s\n",
      "[CV] log_reg__C=0.1, log_reg__penalty=l1, poly__degree=2 .............\n",
      "[CV]  log_reg__C=0.1, log_reg__penalty=l1, poly__degree=2, total=   0.1s\n",
      "[CV] log_reg__C=0.1, log_reg__penalty=l2, poly__degree=1 .............\n",
      "[CV]  log_reg__C=0.1, log_reg__penalty=l2, poly__degree=1, total=   0.0s\n",
      "[CV] log_reg__C=0.1, log_reg__penalty=l2, poly__degree=1 .............\n",
      "[CV]  log_reg__C=0.1, log_reg__penalty=l2, poly__degree=1, total=   0.0s\n",
      "[CV] log_reg__C=0.1, log_reg__penalty=l2, poly__degree=1 .............\n",
      "[CV]  log_reg__C=0.1, log_reg__penalty=l2, poly__degree=1, total=   0.0s\n",
      "[CV] log_reg__C=0.1, log_reg__penalty=l2, poly__degree=1 .............\n",
      "[CV]  log_reg__C=0.1, log_reg__penalty=l2, poly__degree=1, total=   0.0s\n",
      "[CV] log_reg__C=0.1, log_reg__penalty=l2, poly__degree=1 .............\n",
      "[CV]  log_reg__C=0.1, log_reg__penalty=l2, poly__degree=1, total=   0.0s\n",
      "[CV] log_reg__C=0.1, log_reg__penalty=l2, poly__degree=2 .............\n",
      "[CV]  log_reg__C=0.1, log_reg__penalty=l2, poly__degree=2, total=   0.4s\n",
      "[CV] log_reg__C=0.1, log_reg__penalty=l2, poly__degree=2 .............\n",
      "[CV]  log_reg__C=0.1, log_reg__penalty=l2, poly__degree=2, total=   0.4s\n",
      "[CV] log_reg__C=0.1, log_reg__penalty=l2, poly__degree=2 .............\n",
      "[CV]  log_reg__C=0.1, log_reg__penalty=l2, poly__degree=2, total=   0.4s\n",
      "[CV] log_reg__C=0.1, log_reg__penalty=l2, poly__degree=2 .............\n",
      "[CV]  log_reg__C=0.1, log_reg__penalty=l2, poly__degree=2, total=   0.4s\n",
      "[CV] log_reg__C=0.1, log_reg__penalty=l2, poly__degree=2 .............\n",
      "[CV]  log_reg__C=0.1, log_reg__penalty=l2, poly__degree=2, total=   0.4s\n",
      "[CV] log_reg__C=0.01, log_reg__penalty=l1, poly__degree=1 ............\n",
      "[CV]  log_reg__C=0.01, log_reg__penalty=l1, poly__degree=1, total=   0.0s\n",
      "[CV] log_reg__C=0.01, log_reg__penalty=l1, poly__degree=1 ............\n",
      "[CV]  log_reg__C=0.01, log_reg__penalty=l1, poly__degree=1, total=   0.0s\n",
      "[CV] log_reg__C=0.01, log_reg__penalty=l1, poly__degree=1 ............\n",
      "[CV]  log_reg__C=0.01, log_reg__penalty=l1, poly__degree=1, total=   0.0s\n",
      "[CV] log_reg__C=0.01, log_reg__penalty=l1, poly__degree=1 ............\n",
      "[CV]  log_reg__C=0.01, log_reg__penalty=l1, poly__degree=1, total=   0.0s\n",
      "[CV] log_reg__C=0.01, log_reg__penalty=l1, poly__degree=1 ............\n",
      "[CV]  log_reg__C=0.01, log_reg__penalty=l1, poly__degree=1, total=   0.0s\n",
      "[CV] log_reg__C=0.01, log_reg__penalty=l1, poly__degree=2 ............\n",
      "[CV]  log_reg__C=0.01, log_reg__penalty=l1, poly__degree=2, total=   0.1s\n",
      "[CV] log_reg__C=0.01, log_reg__penalty=l1, poly__degree=2 ............\n",
      "[CV]  log_reg__C=0.01, log_reg__penalty=l1, poly__degree=2, total=   0.1s\n",
      "[CV] log_reg__C=0.01, log_reg__penalty=l1, poly__degree=2 ............\n",
      "[CV]  log_reg__C=0.01, log_reg__penalty=l1, poly__degree=2, total=   0.1s\n",
      "[CV] log_reg__C=0.01, log_reg__penalty=l1, poly__degree=2 ............\n",
      "[CV]  log_reg__C=0.01, log_reg__penalty=l1, poly__degree=2, total=   0.1s\n",
      "[CV] log_reg__C=0.01, log_reg__penalty=l1, poly__degree=2 ............\n",
      "[CV]  log_reg__C=0.01, log_reg__penalty=l1, poly__degree=2, total=   0.1s\n",
      "[CV] log_reg__C=0.01, log_reg__penalty=l2, poly__degree=1 ............\n",
      "[CV]  log_reg__C=0.01, log_reg__penalty=l2, poly__degree=1, total=   0.0s\n",
      "[CV] log_reg__C=0.01, log_reg__penalty=l2, poly__degree=1 ............\n",
      "[CV]  log_reg__C=0.01, log_reg__penalty=l2, poly__degree=1, total=   0.0s\n",
      "[CV] log_reg__C=0.01, log_reg__penalty=l2, poly__degree=1 ............\n",
      "[CV]  log_reg__C=0.01, log_reg__penalty=l2, poly__degree=1, total=   0.0s\n",
      "[CV] log_reg__C=0.01, log_reg__penalty=l2, poly__degree=1 ............\n",
      "[CV]  log_reg__C=0.01, log_reg__penalty=l2, poly__degree=1, total=   0.0s\n",
      "[CV] log_reg__C=0.01, log_reg__penalty=l2, poly__degree=1 ............\n",
      "[CV]  log_reg__C=0.01, log_reg__penalty=l2, poly__degree=1, total=   0.0s\n",
      "[CV] log_reg__C=0.01, log_reg__penalty=l2, poly__degree=2 ............\n",
      "[CV]  log_reg__C=0.01, log_reg__penalty=l2, poly__degree=2, total=   0.2s\n",
      "[CV] log_reg__C=0.01, log_reg__penalty=l2, poly__degree=2 ............\n",
      "[CV]  log_reg__C=0.01, log_reg__penalty=l2, poly__degree=2, total=   0.2s\n",
      "[CV] log_reg__C=0.01, log_reg__penalty=l2, poly__degree=2 ............\n",
      "[CV]  log_reg__C=0.01, log_reg__penalty=l2, poly__degree=2, total=   0.2s\n",
      "[CV] log_reg__C=0.01, log_reg__penalty=l2, poly__degree=2 ............\n",
      "[CV]  log_reg__C=0.01, log_reg__penalty=l2, poly__degree=2, total=   0.2s\n",
      "[CV] log_reg__C=0.01, log_reg__penalty=l2, poly__degree=2 ............\n",
      "[CV]  log_reg__C=0.01, log_reg__penalty=l2, poly__degree=2, total=   0.2s\n",
      "{'log_reg__C': 100, 'log_reg__penalty': 'l1', 'poly__degree': 1}\n"
     ]
    },
    {
     "name": "stderr",
     "output_type": "stream",
     "text": [
      "[Parallel(n_jobs=1)]: Done 100 out of 100 | elapsed:  2.5min finished\n"
     ]
    }
   ],
   "source": [
    "from sklearn.model_selection import GridSearchCV\n",
    "grid_param1={'log_reg__penalty':['l1','l2'],'log_reg__C':[100,10,1,0.1,0.01],'poly__degree':[1,2]}\n",
    "classifier2=PolynomialLogisticRegression()\n",
    "grid_clf1=GridSearchCV(classifier2,grid_param1,cv=5,verbose=2)\n",
    "grid_clf1.fit(x,y)\n",
    "print(grid_clf1.best_params_)"
   ]
  },
  {
   "cell_type": "code",
   "execution_count": 233,
   "metadata": {},
   "outputs": [
    {
     "data": {
      "image/png": "[encoded data removed]",
      "text/plain": [
       "<Figure size 432x288 with 1 Axes>"
      ]
     },
     "metadata": {
      "needs_background": "light"
     },
     "output_type": "display_data"
    }
   ],
   "source": [
    "fpr, tpr, threshold = metrics.roc_curve(ytest, grid_clf1.predict_proba(xtest)[:,1])\n",
    "roc_auc = metrics.auc(fpr, tpr)\n",
    "\n",
    "plt.title('Classifier_GSCV')\n",
    "plt.plot(fpr, tpr, 'b', label = 'AUC = %0.2f' % roc_auc)\n",
    "plt.legend(loc = 'lower right')\n",
    "plt.plot([0, 1], [0, 1],'r--')\n",
    "plt.xlim([0, 1])\n",
    "plt.ylim([0, 1])\n",
    "plt.ylabel('True Positive Rate')\n",
    "plt.xlabel('False Positive Rate')\n",
    "plt.show()"
   ]
  },
  {
   "cell_type": "code",
   "execution_count": 234,
   "metadata": {},
   "outputs": [
    {
     "data": {
      "image/png": "[encoded data removed]",
      "text/plain": [
       "<Figure size 432x288 with 1 Axes>"
      ]
     },
     "metadata": {
      "needs_background": "light"
     },
     "output_type": "display_data"
    }
   ],
   "source": [
    "fpr, tpr, threshold = metrics.roc_curve(ytest, grid_clf1.predict_proba(xtest)[:,1])\n",
    "roc_auc = metrics.auc(fpr, tpr)\n",
    "plt.plot(fpr, tpr, 'b', label = 'GridSearch Clf: AUC = %0.2f' % roc_auc)\n",
    "\n",
    "fpr, tpr, threshold = metrics.roc_curve(ytest, classifier1.predict_proba(xtest)[:,1])\n",
    "roc_auc = metrics.auc(fpr, tpr)\n",
    "plt.plot(fpr, tpr, 'k', label = 'Original Clf (test set): AUC = %0.2f' % roc_auc)\n",
    "\n",
    "fpr, tpr, threshold = metrics.roc_curve(ytrain, classifier1.predict_proba(xtrain)[:,1])\n",
    "roc_auc = metrics.auc(fpr, tpr)\n",
    "plt.plot(fpr, tpr, 'k--', label = 'Original Clf (train set): AUC = %0.2f' % roc_auc)\n",
    "\n",
    "plt.legend(loc = 'lower right')\n",
    "plt.plot([0, 1], [0, 1],'r--')\n",
    "plt.xlim([0, 1])\n",
    "plt.ylim([0, 1])\n",
    "plt.ylabel('True Positive Rate')\n",
    "plt.xlabel('False Positive Rate')\n",
    "plt.show()"
   ]
  },
  {
   "cell_type": "code",
   "execution_count": 235,
   "metadata": {},
   "outputs": [
    {
     "name": "stdout",
     "output_type": "stream",
     "text": [
      "Original Confusion Matrix: \n",
      " [[312  95]\n",
      " [ 93 292]]\n",
      "Original Accuracy:  0.7626262626262627\n",
      "Original Precision: 0.7545219638242894\n",
      "Original recall: 0.7584415584415585\n",
      "Original f1: 0.7564766839378239\n"
     ]
    }
   ],
   "source": [
    "from sklearn.metrics import confusion_matrix\n",
    "cm = confusion_matrix(ytest, y_pred1)\n",
    "print (\"Original Confusion Matrix: \\n\", cm)\n",
    "from sklearn.metrics import accuracy_score\n",
    "print (\"Original Accuracy: \", accuracy_score(ytest, y_pred1))\n",
    "from sklearn.metrics import precision_score, recall_score, f1_score\n",
    "print ('Original Precision:',precision_score(ytest,y_pred1))\n",
    "print ('Original recall:',recall_score(ytest,y_pred1))\n",
    "print ('Original f1:',f1_score(ytest,y_pred1))\n"
   ]
  },
  {
   "cell_type": "code",
   "execution_count": 239,
   "metadata": {},
   "outputs": [
    {
     "name": "stdout",
     "output_type": "stream",
     "text": [
      "GSCV Confusion Matrix: \n",
      " [[312  95]\n",
      " [ 69 316]]\n",
      "GSCV Accuracy:  0.7929292929292929\n",
      "GSCV Precision: 0.7688564476885644\n",
      "GSCV Recall: 0.8207792207792208\n",
      "GSCV f1: 0.7939698492462312\n"
     ]
    }
   ],
   "source": [
    "cm1 = confusion_matrix(ytest,grid_clf1.predict(xtest))\n",
    "grid_pred=grid_clf1.predict(xtest)\n",
    "print (\"GSCV Confusion Matrix: \\n\", cm1)\n",
    "print (\"GSCV Accuracy: \", accuracy_score(ytest, grid_pred))\n",
    "print ('GSCV Precision:',precision_score(ytest, grid_pred))\n",
    "print ('GSCV Recall:',recall_score(ytest, grid_pred))\n",
    "print ('GSCV f1:',f1_score(ytest,grid_pred))"
   ]
  },
  {
   "cell_type": "code",
   "execution_count": null,
   "metadata": {},
   "outputs": [],
   "source": []
  }
 ],
 "metadata": {
  "kernelspec": {
   "display_name": "Python 3",
   "language": "python",
   "name": "python3"
  },
  "language_info": {
   "codemirror_mode": {
    "name": "ipython",
    "version": 3
   },
   "file_extension": ".py",
   "mimetype": "text/x-python",
   "name": "python",
   "nbconvert_exporter": "python",
   "pygments_lexer": "ipython3",
   "version": "3.7.3"
  }
 },
 "nbformat": 4,
 "nbformat_minor": 2
}
